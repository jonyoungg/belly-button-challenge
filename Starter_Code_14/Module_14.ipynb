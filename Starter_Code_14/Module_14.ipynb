{
 "cells": [
  {
   "cell_type": "code",
   "execution_count": 4,
   "id": "ed86bdc4-6a13-4d29-826c-ced941469f7a",
   "metadata": {},
   "outputs": [
    {
     "name": "stdout",
     "output_type": "stream",
     "text": [
      "   names                                           metadata  \\\n",
      "0    940  {'id': 940, 'ethnicity': 'Caucasian', 'gender'...   \n",
      "1    941  {'id': 941, 'ethnicity': 'Caucasian/Midleaster...   \n",
      "2    943  {'id': 943, 'ethnicity': 'Caucasian', 'gender'...   \n",
      "3    944  {'id': 944, 'ethnicity': 'European', 'gender':...   \n",
      "4    945  {'id': 945, 'ethnicity': 'Caucasian', 'gender'...   \n",
      "\n",
      "                                             samples  \n",
      "0  {'id': '940', 'otu_ids': [1167, 2859, 482, 226...  \n",
      "1  {'id': '941', 'otu_ids': [2722, 944, 2419, 253...  \n",
      "2  {'id': '943', 'otu_ids': [1795], 'sample_value...  \n",
      "3  {'id': '944', 'otu_ids': [922, 3555, 943, 1013...  \n",
      "4  {'id': '945', 'otu_ids': [944, 1795, 922, 2419...  \n"
     ]
    }
   ],
   "source": [
    "import pandas as pd\n",
    "import plotly.express as px\n",
    "import plotly.graph_objects as go\n",
    "from urllib.request import urlopen\n",
    "import json\n",
    "\n",
    "# URL to the JSON file\n",
    "url = \"https://static.bc-edx.com/data/dl-1-2/m14/lms/starter/samples.json\"\n",
    "\n",
    "# Read the JSON data from the URL into a Pandas DataFrame\n",
    "data = pd.read_json(url)\n",
    "\n",
    "# Display the DataFrame (or you can inspect it with other methods)\n",
    "print(data.head())  # Display the first few rows\n"
   ]
  },
  {
   "cell_type": "code",
   "execution_count": 5,
   "id": "79c20a10-72ca-4150-a0c4-6c92b2d956a9",
   "metadata": {},
   "outputs": [
    {
     "data": {
      "application/vnd.plotly.v1+json": {
       "config": {
        "plotlyServerURL": "https://plot.ly"
       },
       "data": [
        {
         "orientation": "h",
         "text": [
          "Bacteria;Firmicutes;Clostridia;Clostridiales",
          "Bacteria;Firmicutes;Clostridia;Clostridiales;IncertaeSedisXI;Anaerococcus",
          "Bacteria",
          "Bacteria",
          "Bacteria;Bacteroidetes;Bacteroidia;Bacteroidales;Porphyromonadaceae;Porphyromonas",
          "Bacteria",
          "Bacteria;Firmicutes;Clostridia;Clostridiales;IncertaeSedisXI",
          "Bacteria",
          "Bacteria;Firmicutes;Clostridia;Clostridiales;IncertaeSedisXI;Peptoniphilus",
          "Bacteria;Bacteroidetes;Bacteroidia;Bacteroidales;Porphyromonadaceae;Porphyromonas"
         ],
         "type": "bar",
         "x": [
          40,
          40,
          47,
          50,
          51,
          71,
          78,
          113,
          126,
          163
         ],
         "y": [
          "OTU 1977",
          "OTU 2318",
          "OTU 189",
          "OTU 352",
          "OTU 1189",
          "OTU 41",
          "OTU 2264",
          "OTU 482",
          "OTU 2859",
          "OTU 1167"
         ]
        }
       ],
       "layout": {
        "autosize": true,
        "template": {
         "data": {
          "bar": [
           {
            "error_x": {
             "color": "#2a3f5f"
            },
            "error_y": {
             "color": "#2a3f5f"
            },
            "marker": {
             "line": {
              "color": "#E5ECF6",
              "width": 0.5
             },
             "pattern": {
              "fillmode": "overlay",
              "size": 10,
              "solidity": 0.2
             }
            },
            "type": "bar"
           }
          ],
          "barpolar": [
           {
            "marker": {
             "line": {
              "color": "#E5ECF6",
              "width": 0.5
             },
             "pattern": {
              "fillmode": "overlay",
              "size": 10,
              "solidity": 0.2
             }
            },
            "type": "barpolar"
           }
          ],
          "carpet": [
           {
            "aaxis": {
             "endlinecolor": "#2a3f5f",
             "gridcolor": "white",
             "linecolor": "white",
             "minorgridcolor": "white",
             "startlinecolor": "#2a3f5f"
            },
            "baxis": {
             "endlinecolor": "#2a3f5f",
             "gridcolor": "white",
             "linecolor": "white",
             "minorgridcolor": "white",
             "startlinecolor": "#2a3f5f"
            },
            "type": "carpet"
           }
          ],
          "choropleth": [
           {
            "colorbar": {
             "outlinewidth": 0,
             "ticks": ""
            },
            "type": "choropleth"
           }
          ],
          "contour": [
           {
            "colorbar": {
             "outlinewidth": 0,
             "ticks": ""
            },
            "colorscale": [
             [
              0,
              "#0d0887"
             ],
             [
              0.1111111111111111,
              "#46039f"
             ],
             [
              0.2222222222222222,
              "#7201a8"
             ],
             [
              0.3333333333333333,
              "#9c179e"
             ],
             [
              0.4444444444444444,
              "#bd3786"
             ],
             [
              0.5555555555555556,
              "#d8576b"
             ],
             [
              0.6666666666666666,
              "#ed7953"
             ],
             [
              0.7777777777777778,
              "#fb9f3a"
             ],
             [
              0.8888888888888888,
              "#fdca26"
             ],
             [
              1,
              "#f0f921"
             ]
            ],
            "type": "contour"
           }
          ],
          "contourcarpet": [
           {
            "colorbar": {
             "outlinewidth": 0,
             "ticks": ""
            },
            "type": "contourcarpet"
           }
          ],
          "heatmap": [
           {
            "colorbar": {
             "outlinewidth": 0,
             "ticks": ""
            },
            "colorscale": [
             [
              0,
              "#0d0887"
             ],
             [
              0.1111111111111111,
              "#46039f"
             ],
             [
              0.2222222222222222,
              "#7201a8"
             ],
             [
              0.3333333333333333,
              "#9c179e"
             ],
             [
              0.4444444444444444,
              "#bd3786"
             ],
             [
              0.5555555555555556,
              "#d8576b"
             ],
             [
              0.6666666666666666,
              "#ed7953"
             ],
             [
              0.7777777777777778,
              "#fb9f3a"
             ],
             [
              0.8888888888888888,
              "#fdca26"
             ],
             [
              1,
              "#f0f921"
             ]
            ],
            "type": "heatmap"
           }
          ],
          "heatmapgl": [
           {
            "colorbar": {
             "outlinewidth": 0,
             "ticks": ""
            },
            "colorscale": [
             [
              0,
              "#0d0887"
             ],
             [
              0.1111111111111111,
              "#46039f"
             ],
             [
              0.2222222222222222,
              "#7201a8"
             ],
             [
              0.3333333333333333,
              "#9c179e"
             ],
             [
              0.4444444444444444,
              "#bd3786"
             ],
             [
              0.5555555555555556,
              "#d8576b"
             ],
             [
              0.6666666666666666,
              "#ed7953"
             ],
             [
              0.7777777777777778,
              "#fb9f3a"
             ],
             [
              0.8888888888888888,
              "#fdca26"
             ],
             [
              1,
              "#f0f921"
             ]
            ],
            "type": "heatmapgl"
           }
          ],
          "histogram": [
           {
            "marker": {
             "pattern": {
              "fillmode": "overlay",
              "size": 10,
              "solidity": 0.2
             }
            },
            "type": "histogram"
           }
          ],
          "histogram2d": [
           {
            "colorbar": {
             "outlinewidth": 0,
             "ticks": ""
            },
            "colorscale": [
             [
              0,
              "#0d0887"
             ],
             [
              0.1111111111111111,
              "#46039f"
             ],
             [
              0.2222222222222222,
              "#7201a8"
             ],
             [
              0.3333333333333333,
              "#9c179e"
             ],
             [
              0.4444444444444444,
              "#bd3786"
             ],
             [
              0.5555555555555556,
              "#d8576b"
             ],
             [
              0.6666666666666666,
              "#ed7953"
             ],
             [
              0.7777777777777778,
              "#fb9f3a"
             ],
             [
              0.8888888888888888,
              "#fdca26"
             ],
             [
              1,
              "#f0f921"
             ]
            ],
            "type": "histogram2d"
           }
          ],
          "histogram2dcontour": [
           {
            "colorbar": {
             "outlinewidth": 0,
             "ticks": ""
            },
            "colorscale": [
             [
              0,
              "#0d0887"
             ],
             [
              0.1111111111111111,
              "#46039f"
             ],
             [
              0.2222222222222222,
              "#7201a8"
             ],
             [
              0.3333333333333333,
              "#9c179e"
             ],
             [
              0.4444444444444444,
              "#bd3786"
             ],
             [
              0.5555555555555556,
              "#d8576b"
             ],
             [
              0.6666666666666666,
              "#ed7953"
             ],
             [
              0.7777777777777778,
              "#fb9f3a"
             ],
             [
              0.8888888888888888,
              "#fdca26"
             ],
             [
              1,
              "#f0f921"
             ]
            ],
            "type": "histogram2dcontour"
           }
          ],
          "mesh3d": [
           {
            "colorbar": {
             "outlinewidth": 0,
             "ticks": ""
            },
            "type": "mesh3d"
           }
          ],
          "parcoords": [
           {
            "line": {
             "colorbar": {
              "outlinewidth": 0,
              "ticks": ""
             }
            },
            "type": "parcoords"
           }
          ],
          "pie": [
           {
            "automargin": true,
            "type": "pie"
           }
          ],
          "scatter": [
           {
            "fillpattern": {
             "fillmode": "overlay",
             "size": 10,
             "solidity": 0.2
            },
            "type": "scatter"
           }
          ],
          "scatter3d": [
           {
            "line": {
             "colorbar": {
              "outlinewidth": 0,
              "ticks": ""
             }
            },
            "marker": {
             "colorbar": {
              "outlinewidth": 0,
              "ticks": ""
             }
            },
            "type": "scatter3d"
           }
          ],
          "scattercarpet": [
           {
            "marker": {
             "colorbar": {
              "outlinewidth": 0,
              "ticks": ""
             }
            },
            "type": "scattercarpet"
           }
          ],
          "scattergeo": [
           {
            "marker": {
             "colorbar": {
              "outlinewidth": 0,
              "ticks": ""
             }
            },
            "type": "scattergeo"
           }
          ],
          "scattergl": [
           {
            "marker": {
             "colorbar": {
              "outlinewidth": 0,
              "ticks": ""
             }
            },
            "type": "scattergl"
           }
          ],
          "scattermapbox": [
           {
            "marker": {
             "colorbar": {
              "outlinewidth": 0,
              "ticks": ""
             }
            },
            "type": "scattermapbox"
           }
          ],
          "scatterpolar": [
           {
            "marker": {
             "colorbar": {
              "outlinewidth": 0,
              "ticks": ""
             }
            },
            "type": "scatterpolar"
           }
          ],
          "scatterpolargl": [
           {
            "marker": {
             "colorbar": {
              "outlinewidth": 0,
              "ticks": ""
             }
            },
            "type": "scatterpolargl"
           }
          ],
          "scatterternary": [
           {
            "marker": {
             "colorbar": {
              "outlinewidth": 0,
              "ticks": ""
             }
            },
            "type": "scatterternary"
           }
          ],
          "surface": [
           {
            "colorbar": {
             "outlinewidth": 0,
             "ticks": ""
            },
            "colorscale": [
             [
              0,
              "#0d0887"
             ],
             [
              0.1111111111111111,
              "#46039f"
             ],
             [
              0.2222222222222222,
              "#7201a8"
             ],
             [
              0.3333333333333333,
              "#9c179e"
             ],
             [
              0.4444444444444444,
              "#bd3786"
             ],
             [
              0.5555555555555556,
              "#d8576b"
             ],
             [
              0.6666666666666666,
              "#ed7953"
             ],
             [
              0.7777777777777778,
              "#fb9f3a"
             ],
             [
              0.8888888888888888,
              "#fdca26"
             ],
             [
              1,
              "#f0f921"
             ]
            ],
            "type": "surface"
           }
          ],
          "table": [
           {
            "cells": {
             "fill": {
              "color": "#EBF0F8"
             },
             "line": {
              "color": "white"
             }
            },
            "header": {
             "fill": {
              "color": "#C8D4E3"
             },
             "line": {
              "color": "white"
             }
            },
            "type": "table"
           }
          ]
         },
         "layout": {
          "annotationdefaults": {
           "arrowcolor": "#2a3f5f",
           "arrowhead": 0,
           "arrowwidth": 1
          },
          "autotypenumbers": "strict",
          "coloraxis": {
           "colorbar": {
            "outlinewidth": 0,
            "ticks": ""
           }
          },
          "colorscale": {
           "diverging": [
            [
             0,
             "#8e0152"
            ],
            [
             0.1,
             "#c51b7d"
            ],
            [
             0.2,
             "#de77ae"
            ],
            [
             0.3,
             "#f1b6da"
            ],
            [
             0.4,
             "#fde0ef"
            ],
            [
             0.5,
             "#f7f7f7"
            ],
            [
             0.6,
             "#e6f5d0"
            ],
            [
             0.7,
             "#b8e186"
            ],
            [
             0.8,
             "#7fbc41"
            ],
            [
             0.9,
             "#4d9221"
            ],
            [
             1,
             "#276419"
            ]
           ],
           "sequential": [
            [
             0,
             "#0d0887"
            ],
            [
             0.1111111111111111,
             "#46039f"
            ],
            [
             0.2222222222222222,
             "#7201a8"
            ],
            [
             0.3333333333333333,
             "#9c179e"
            ],
            [
             0.4444444444444444,
             "#bd3786"
            ],
            [
             0.5555555555555556,
             "#d8576b"
            ],
            [
             0.6666666666666666,
             "#ed7953"
            ],
            [
             0.7777777777777778,
             "#fb9f3a"
            ],
            [
             0.8888888888888888,
             "#fdca26"
            ],
            [
             1,
             "#f0f921"
            ]
           ],
           "sequentialminus": [
            [
             0,
             "#0d0887"
            ],
            [
             0.1111111111111111,
             "#46039f"
            ],
            [
             0.2222222222222222,
             "#7201a8"
            ],
            [
             0.3333333333333333,
             "#9c179e"
            ],
            [
             0.4444444444444444,
             "#bd3786"
            ],
            [
             0.5555555555555556,
             "#d8576b"
            ],
            [
             0.6666666666666666,
             "#ed7953"
            ],
            [
             0.7777777777777778,
             "#fb9f3a"
            ],
            [
             0.8888888888888888,
             "#fdca26"
            ],
            [
             1,
             "#f0f921"
            ]
           ]
          },
          "colorway": [
           "#636efa",
           "#EF553B",
           "#00cc96",
           "#ab63fa",
           "#FFA15A",
           "#19d3f3",
           "#FF6692",
           "#B6E880",
           "#FF97FF",
           "#FECB52"
          ],
          "font": {
           "color": "#2a3f5f"
          },
          "geo": {
           "bgcolor": "white",
           "lakecolor": "white",
           "landcolor": "#E5ECF6",
           "showlakes": true,
           "showland": true,
           "subunitcolor": "white"
          },
          "hoverlabel": {
           "align": "left"
          },
          "hovermode": "closest",
          "mapbox": {
           "style": "light"
          },
          "paper_bgcolor": "white",
          "plot_bgcolor": "#E5ECF6",
          "polar": {
           "angularaxis": {
            "gridcolor": "white",
            "linecolor": "white",
            "ticks": ""
           },
           "bgcolor": "#E5ECF6",
           "radialaxis": {
            "gridcolor": "white",
            "linecolor": "white",
            "ticks": ""
           }
          },
          "scene": {
           "xaxis": {
            "backgroundcolor": "#E5ECF6",
            "gridcolor": "white",
            "gridwidth": 2,
            "linecolor": "white",
            "showbackground": true,
            "ticks": "",
            "zerolinecolor": "white"
           },
           "yaxis": {
            "backgroundcolor": "#E5ECF6",
            "gridcolor": "white",
            "gridwidth": 2,
            "linecolor": "white",
            "showbackground": true,
            "ticks": "",
            "zerolinecolor": "white"
           },
           "zaxis": {
            "backgroundcolor": "#E5ECF6",
            "gridcolor": "white",
            "gridwidth": 2,
            "linecolor": "white",
            "showbackground": true,
            "ticks": "",
            "zerolinecolor": "white"
           }
          },
          "shapedefaults": {
           "line": {
            "color": "#2a3f5f"
           }
          },
          "ternary": {
           "aaxis": {
            "gridcolor": "white",
            "linecolor": "white",
            "ticks": ""
           },
           "baxis": {
            "gridcolor": "white",
            "linecolor": "white",
            "ticks": ""
           },
           "bgcolor": "#E5ECF6",
           "caxis": {
            "gridcolor": "white",
            "linecolor": "white",
            "ticks": ""
           }
          },
          "title": {
           "x": 0.05
          },
          "xaxis": {
           "automargin": true,
           "gridcolor": "white",
           "linecolor": "white",
           "ticks": "",
           "title": {
            "standoff": 15
           },
           "zerolinecolor": "white",
           "zerolinewidth": 2
          },
          "yaxis": {
           "automargin": true,
           "gridcolor": "white",
           "linecolor": "white",
           "ticks": "",
           "title": {
            "standoff": 15
           },
           "zerolinecolor": "white",
           "zerolinewidth": 2
          }
         }
        },
        "title": {
         "text": "Top 10 OTUs for Sample 940"
        },
        "updatemenus": [
         {
          "buttons": [
           {
            "args": [
             {
              "visible": [
               true
              ]
             },
             {
              "title": "Top 10 OTUs for Sample 940"
             }
            ],
            "label": "940",
            "method": "update"
           },
           {
            "args": [
             {
              "visible": [
               true
              ]
             },
             {
              "title": "Top 10 OTUs for Sample 941"
             }
            ],
            "label": "941",
            "method": "update"
           },
           {
            "args": [
             {
              "visible": [
               true
              ]
             },
             {
              "title": "Top 10 OTUs for Sample 943"
             }
            ],
            "label": "943",
            "method": "update"
           },
           {
            "args": [
             {
              "visible": [
               true
              ]
             },
             {
              "title": "Top 10 OTUs for Sample 944"
             }
            ],
            "label": "944",
            "method": "update"
           },
           {
            "args": [
             {
              "visible": [
               true
              ]
             },
             {
              "title": "Top 10 OTUs for Sample 945"
             }
            ],
            "label": "945",
            "method": "update"
           },
           {
            "args": [
             {
              "visible": [
               true
              ]
             },
             {
              "title": "Top 10 OTUs for Sample 946"
             }
            ],
            "label": "946",
            "method": "update"
           },
           {
            "args": [
             {
              "visible": [
               true
              ]
             },
             {
              "title": "Top 10 OTUs for Sample 947"
             }
            ],
            "label": "947",
            "method": "update"
           },
           {
            "args": [
             {
              "visible": [
               true
              ]
             },
             {
              "title": "Top 10 OTUs for Sample 948"
             }
            ],
            "label": "948",
            "method": "update"
           },
           {
            "args": [
             {
              "visible": [
               true
              ]
             },
             {
              "title": "Top 10 OTUs for Sample 949"
             }
            ],
            "label": "949",
            "method": "update"
           },
           {
            "args": [
             {
              "visible": [
               true
              ]
             },
             {
              "title": "Top 10 OTUs for Sample 950"
             }
            ],
            "label": "950",
            "method": "update"
           },
           {
            "args": [
             {
              "visible": [
               true
              ]
             },
             {
              "title": "Top 10 OTUs for Sample 952"
             }
            ],
            "label": "952",
            "method": "update"
           },
           {
            "args": [
             {
              "visible": [
               true
              ]
             },
             {
              "title": "Top 10 OTUs for Sample 953"
             }
            ],
            "label": "953",
            "method": "update"
           },
           {
            "args": [
             {
              "visible": [
               true
              ]
             },
             {
              "title": "Top 10 OTUs for Sample 954"
             }
            ],
            "label": "954",
            "method": "update"
           },
           {
            "args": [
             {
              "visible": [
               true
              ]
             },
             {
              "title": "Top 10 OTUs for Sample 955"
             }
            ],
            "label": "955",
            "method": "update"
           },
           {
            "args": [
             {
              "visible": [
               true
              ]
             },
             {
              "title": "Top 10 OTUs for Sample 956"
             }
            ],
            "label": "956",
            "method": "update"
           },
           {
            "args": [
             {
              "visible": [
               true
              ]
             },
             {
              "title": "Top 10 OTUs for Sample 958"
             }
            ],
            "label": "958",
            "method": "update"
           },
           {
            "args": [
             {
              "visible": [
               true
              ]
             },
             {
              "title": "Top 10 OTUs for Sample 959"
             }
            ],
            "label": "959",
            "method": "update"
           },
           {
            "args": [
             {
              "visible": [
               true
              ]
             },
             {
              "title": "Top 10 OTUs for Sample 960"
             }
            ],
            "label": "960",
            "method": "update"
           },
           {
            "args": [
             {
              "visible": [
               true
              ]
             },
             {
              "title": "Top 10 OTUs for Sample 961"
             }
            ],
            "label": "961",
            "method": "update"
           },
           {
            "args": [
             {
              "visible": [
               true
              ]
             },
             {
              "title": "Top 10 OTUs for Sample 962"
             }
            ],
            "label": "962",
            "method": "update"
           },
           {
            "args": [
             {
              "visible": [
               true
              ]
             },
             {
              "title": "Top 10 OTUs for Sample 963"
             }
            ],
            "label": "963",
            "method": "update"
           },
           {
            "args": [
             {
              "visible": [
               true
              ]
             },
             {
              "title": "Top 10 OTUs for Sample 964"
             }
            ],
            "label": "964",
            "method": "update"
           },
           {
            "args": [
             {
              "visible": [
               true
              ]
             },
             {
              "title": "Top 10 OTUs for Sample 966"
             }
            ],
            "label": "966",
            "method": "update"
           },
           {
            "args": [
             {
              "visible": [
               true
              ]
             },
             {
              "title": "Top 10 OTUs for Sample 967"
             }
            ],
            "label": "967",
            "method": "update"
           },
           {
            "args": [
             {
              "visible": [
               true
              ]
             },
             {
              "title": "Top 10 OTUs for Sample 968"
             }
            ],
            "label": "968",
            "method": "update"
           },
           {
            "args": [
             {
              "visible": [
               true
              ]
             },
             {
              "title": "Top 10 OTUs for Sample 969"
             }
            ],
            "label": "969",
            "method": "update"
           },
           {
            "args": [
             {
              "visible": [
               true
              ]
             },
             {
              "title": "Top 10 OTUs for Sample 970"
             }
            ],
            "label": "970",
            "method": "update"
           },
           {
            "args": [
             {
              "visible": [
               true
              ]
             },
             {
              "title": "Top 10 OTUs for Sample 971"
             }
            ],
            "label": "971",
            "method": "update"
           },
           {
            "args": [
             {
              "visible": [
               true
              ]
             },
             {
              "title": "Top 10 OTUs for Sample 972"
             }
            ],
            "label": "972",
            "method": "update"
           },
           {
            "args": [
             {
              "visible": [
               true
              ]
             },
             {
              "title": "Top 10 OTUs for Sample 973"
             }
            ],
            "label": "973",
            "method": "update"
           },
           {
            "args": [
             {
              "visible": [
               true
              ]
             },
             {
              "title": "Top 10 OTUs for Sample 974"
             }
            ],
            "label": "974",
            "method": "update"
           },
           {
            "args": [
             {
              "visible": [
               true
              ]
             },
             {
              "title": "Top 10 OTUs for Sample 975"
             }
            ],
            "label": "975",
            "method": "update"
           },
           {
            "args": [
             {
              "visible": [
               true
              ]
             },
             {
              "title": "Top 10 OTUs for Sample 978"
             }
            ],
            "label": "978",
            "method": "update"
           },
           {
            "args": [
             {
              "visible": [
               true
              ]
             },
             {
              "title": "Top 10 OTUs for Sample 1233"
             }
            ],
            "label": "1233",
            "method": "update"
           },
           {
            "args": [
             {
              "visible": [
               true
              ]
             },
             {
              "title": "Top 10 OTUs for Sample 1234"
             }
            ],
            "label": "1234",
            "method": "update"
           },
           {
            "args": [
             {
              "visible": [
               true
              ]
             },
             {
              "title": "Top 10 OTUs for Sample 1235"
             }
            ],
            "label": "1235",
            "method": "update"
           },
           {
            "args": [
             {
              "visible": [
               true
              ]
             },
             {
              "title": "Top 10 OTUs for Sample 1236"
             }
            ],
            "label": "1236",
            "method": "update"
           },
           {
            "args": [
             {
              "visible": [
               true
              ]
             },
             {
              "title": "Top 10 OTUs for Sample 1237"
             }
            ],
            "label": "1237",
            "method": "update"
           },
           {
            "args": [
             {
              "visible": [
               true
              ]
             },
             {
              "title": "Top 10 OTUs for Sample 1238"
             }
            ],
            "label": "1238",
            "method": "update"
           },
           {
            "args": [
             {
              "visible": [
               true
              ]
             },
             {
              "title": "Top 10 OTUs for Sample 1242"
             }
            ],
            "label": "1242",
            "method": "update"
           },
           {
            "args": [
             {
              "visible": [
               true
              ]
             },
             {
              "title": "Top 10 OTUs for Sample 1243"
             }
            ],
            "label": "1243",
            "method": "update"
           },
           {
            "args": [
             {
              "visible": [
               true
              ]
             },
             {
              "title": "Top 10 OTUs for Sample 1246"
             }
            ],
            "label": "1246",
            "method": "update"
           },
           {
            "args": [
             {
              "visible": [
               true
              ]
             },
             {
              "title": "Top 10 OTUs for Sample 1253"
             }
            ],
            "label": "1253",
            "method": "update"
           },
           {
            "args": [
             {
              "visible": [
               true
              ]
             },
             {
              "title": "Top 10 OTUs for Sample 1254"
             }
            ],
            "label": "1254",
            "method": "update"
           },
           {
            "args": [
             {
              "visible": [
               true
              ]
             },
             {
              "title": "Top 10 OTUs for Sample 1258"
             }
            ],
            "label": "1258",
            "method": "update"
           },
           {
            "args": [
             {
              "visible": [
               true
              ]
             },
             {
              "title": "Top 10 OTUs for Sample 1259"
             }
            ],
            "label": "1259",
            "method": "update"
           },
           {
            "args": [
             {
              "visible": [
               true
              ]
             },
             {
              "title": "Top 10 OTUs for Sample 1260"
             }
            ],
            "label": "1260",
            "method": "update"
           },
           {
            "args": [
             {
              "visible": [
               true
              ]
             },
             {
              "title": "Top 10 OTUs for Sample 1264"
             }
            ],
            "label": "1264",
            "method": "update"
           },
           {
            "args": [
             {
              "visible": [
               true
              ]
             },
             {
              "title": "Top 10 OTUs for Sample 1265"
             }
            ],
            "label": "1265",
            "method": "update"
           },
           {
            "args": [
             {
              "visible": [
               true
              ]
             },
             {
              "title": "Top 10 OTUs for Sample 1273"
             }
            ],
            "label": "1273",
            "method": "update"
           },
           {
            "args": [
             {
              "visible": [
               true
              ]
             },
             {
              "title": "Top 10 OTUs for Sample 1275"
             }
            ],
            "label": "1275",
            "method": "update"
           },
           {
            "args": [
             {
              "visible": [
               true
              ]
             },
             {
              "title": "Top 10 OTUs for Sample 1276"
             }
            ],
            "label": "1276",
            "method": "update"
           },
           {
            "args": [
             {
              "visible": [
               true
              ]
             },
             {
              "title": "Top 10 OTUs for Sample 1277"
             }
            ],
            "label": "1277",
            "method": "update"
           },
           {
            "args": [
             {
              "visible": [
               true
              ]
             },
             {
              "title": "Top 10 OTUs for Sample 1278"
             }
            ],
            "label": "1278",
            "method": "update"
           },
           {
            "args": [
             {
              "visible": [
               true
              ]
             },
             {
              "title": "Top 10 OTUs for Sample 1279"
             }
            ],
            "label": "1279",
            "method": "update"
           },
           {
            "args": [
             {
              "visible": [
               true
              ]
             },
             {
              "title": "Top 10 OTUs for Sample 1280"
             }
            ],
            "label": "1280",
            "method": "update"
           },
           {
            "args": [
             {
              "visible": [
               true
              ]
             },
             {
              "title": "Top 10 OTUs for Sample 1281"
             }
            ],
            "label": "1281",
            "method": "update"
           },
           {
            "args": [
             {
              "visible": [
               true
              ]
             },
             {
              "title": "Top 10 OTUs for Sample 1282"
             }
            ],
            "label": "1282",
            "method": "update"
           },
           {
            "args": [
             {
              "visible": [
               true
              ]
             },
             {
              "title": "Top 10 OTUs for Sample 1283"
             }
            ],
            "label": "1283",
            "method": "update"
           },
           {
            "args": [
             {
              "visible": [
               true
              ]
             },
             {
              "title": "Top 10 OTUs for Sample 1284"
             }
            ],
            "label": "1284",
            "method": "update"
           },
           {
            "args": [
             {
              "visible": [
               true
              ]
             },
             {
              "title": "Top 10 OTUs for Sample 1285"
             }
            ],
            "label": "1285",
            "method": "update"
           },
           {
            "args": [
             {
              "visible": [
               true
              ]
             },
             {
              "title": "Top 10 OTUs for Sample 1286"
             }
            ],
            "label": "1286",
            "method": "update"
           },
           {
            "args": [
             {
              "visible": [
               true
              ]
             },
             {
              "title": "Top 10 OTUs for Sample 1287"
             }
            ],
            "label": "1287",
            "method": "update"
           },
           {
            "args": [
             {
              "visible": [
               true
              ]
             },
             {
              "title": "Top 10 OTUs for Sample 1288"
             }
            ],
            "label": "1288",
            "method": "update"
           },
           {
            "args": [
             {
              "visible": [
               true
              ]
             },
             {
              "title": "Top 10 OTUs for Sample 1289"
             }
            ],
            "label": "1289",
            "method": "update"
           },
           {
            "args": [
             {
              "visible": [
               true
              ]
             },
             {
              "title": "Top 10 OTUs for Sample 1290"
             }
            ],
            "label": "1290",
            "method": "update"
           },
           {
            "args": [
             {
              "visible": [
               true
              ]
             },
             {
              "title": "Top 10 OTUs for Sample 1291"
             }
            ],
            "label": "1291",
            "method": "update"
           },
           {
            "args": [
             {
              "visible": [
               true
              ]
             },
             {
              "title": "Top 10 OTUs for Sample 1292"
             }
            ],
            "label": "1292",
            "method": "update"
           },
           {
            "args": [
             {
              "visible": [
               true
              ]
             },
             {
              "title": "Top 10 OTUs for Sample 1293"
             }
            ],
            "label": "1293",
            "method": "update"
           },
           {
            "args": [
             {
              "visible": [
               true
              ]
             },
             {
              "title": "Top 10 OTUs for Sample 1294"
             }
            ],
            "label": "1294",
            "method": "update"
           },
           {
            "args": [
             {
              "visible": [
               true
              ]
             },
             {
              "title": "Top 10 OTUs for Sample 1295"
             }
            ],
            "label": "1295",
            "method": "update"
           },
           {
            "args": [
             {
              "visible": [
               true
              ]
             },
             {
              "title": "Top 10 OTUs for Sample 1296"
             }
            ],
            "label": "1296",
            "method": "update"
           },
           {
            "args": [
             {
              "visible": [
               true
              ]
             },
             {
              "title": "Top 10 OTUs for Sample 1297"
             }
            ],
            "label": "1297",
            "method": "update"
           },
           {
            "args": [
             {
              "visible": [
               true
              ]
             },
             {
              "title": "Top 10 OTUs for Sample 1298"
             }
            ],
            "label": "1298",
            "method": "update"
           },
           {
            "args": [
             {
              "visible": [
               true
              ]
             },
             {
              "title": "Top 10 OTUs for Sample 1308"
             }
            ],
            "label": "1308",
            "method": "update"
           },
           {
            "args": [
             {
              "visible": [
               true
              ]
             },
             {
              "title": "Top 10 OTUs for Sample 1309"
             }
            ],
            "label": "1309",
            "method": "update"
           },
           {
            "args": [
             {
              "visible": [
               true
              ]
             },
             {
              "title": "Top 10 OTUs for Sample 1310"
             }
            ],
            "label": "1310",
            "method": "update"
           },
           {
            "args": [
             {
              "visible": [
               true
              ]
             },
             {
              "title": "Top 10 OTUs for Sample 1374"
             }
            ],
            "label": "1374",
            "method": "update"
           },
           {
            "args": [
             {
              "visible": [
               true
              ]
             },
             {
              "title": "Top 10 OTUs for Sample 1415"
             }
            ],
            "label": "1415",
            "method": "update"
           },
           {
            "args": [
             {
              "visible": [
               true
              ]
             },
             {
              "title": "Top 10 OTUs for Sample 1439"
             }
            ],
            "label": "1439",
            "method": "update"
           },
           {
            "args": [
             {
              "visible": [
               true
              ]
             },
             {
              "title": "Top 10 OTUs for Sample 1441"
             }
            ],
            "label": "1441",
            "method": "update"
           },
           {
            "args": [
             {
              "visible": [
               true
              ]
             },
             {
              "title": "Top 10 OTUs for Sample 1443"
             }
            ],
            "label": "1443",
            "method": "update"
           },
           {
            "args": [
             {
              "visible": [
               true
              ]
             },
             {
              "title": "Top 10 OTUs for Sample 1486"
             }
            ],
            "label": "1486",
            "method": "update"
           },
           {
            "args": [
             {
              "visible": [
               true
              ]
             },
             {
              "title": "Top 10 OTUs for Sample 1487"
             }
            ],
            "label": "1487",
            "method": "update"
           },
           {
            "args": [
             {
              "visible": [
               true
              ]
             },
             {
              "title": "Top 10 OTUs for Sample 1489"
             }
            ],
            "label": "1489",
            "method": "update"
           },
           {
            "args": [
             {
              "visible": [
               true
              ]
             },
             {
              "title": "Top 10 OTUs for Sample 1490"
             }
            ],
            "label": "1490",
            "method": "update"
           },
           {
            "args": [
             {
              "visible": [
               true
              ]
             },
             {
              "title": "Top 10 OTUs for Sample 1491"
             }
            ],
            "label": "1491",
            "method": "update"
           },
           {
            "args": [
             {
              "visible": [
               true
              ]
             },
             {
              "title": "Top 10 OTUs for Sample 1494"
             }
            ],
            "label": "1494",
            "method": "update"
           },
           {
            "args": [
             {
              "visible": [
               true
              ]
             },
             {
              "title": "Top 10 OTUs for Sample 1495"
             }
            ],
            "label": "1495",
            "method": "update"
           },
           {
            "args": [
             {
              "visible": [
               true
              ]
             },
             {
              "title": "Top 10 OTUs for Sample 1497"
             }
            ],
            "label": "1497",
            "method": "update"
           },
           {
            "args": [
             {
              "visible": [
               true
              ]
             },
             {
              "title": "Top 10 OTUs for Sample 1499"
             }
            ],
            "label": "1499",
            "method": "update"
           },
           {
            "args": [
             {
              "visible": [
               true
              ]
             },
             {
              "title": "Top 10 OTUs for Sample 1500"
             }
            ],
            "label": "1500",
            "method": "update"
           },
           {
            "args": [
             {
              "visible": [
               true
              ]
             },
             {
              "title": "Top 10 OTUs for Sample 1501"
             }
            ],
            "label": "1501",
            "method": "update"
           },
           {
            "args": [
             {
              "visible": [
               true
              ]
             },
             {
              "title": "Top 10 OTUs for Sample 1502"
             }
            ],
            "label": "1502",
            "method": "update"
           },
           {
            "args": [
             {
              "visible": [
               true
              ]
             },
             {
              "title": "Top 10 OTUs for Sample 1503"
             }
            ],
            "label": "1503",
            "method": "update"
           },
           {
            "args": [
             {
              "visible": [
               true
              ]
             },
             {
              "title": "Top 10 OTUs for Sample 1504"
             }
            ],
            "label": "1504",
            "method": "update"
           },
           {
            "args": [
             {
              "visible": [
               true
              ]
             },
             {
              "title": "Top 10 OTUs for Sample 1505"
             }
            ],
            "label": "1505",
            "method": "update"
           },
           {
            "args": [
             {
              "visible": [
               true
              ]
             },
             {
              "title": "Top 10 OTUs for Sample 1506"
             }
            ],
            "label": "1506",
            "method": "update"
           },
           {
            "args": [
             {
              "visible": [
               true
              ]
             },
             {
              "title": "Top 10 OTUs for Sample 1507"
             }
            ],
            "label": "1507",
            "method": "update"
           },
           {
            "args": [
             {
              "visible": [
               true
              ]
             },
             {
              "title": "Top 10 OTUs for Sample 1508"
             }
            ],
            "label": "1508",
            "method": "update"
           },
           {
            "args": [
             {
              "visible": [
               true
              ]
             },
             {
              "title": "Top 10 OTUs for Sample 1510"
             }
            ],
            "label": "1510",
            "method": "update"
           },
           {
            "args": [
             {
              "visible": [
               true
              ]
             },
             {
              "title": "Top 10 OTUs for Sample 1511"
             }
            ],
            "label": "1511",
            "method": "update"
           },
           {
            "args": [
             {
              "visible": [
               true
              ]
             },
             {
              "title": "Top 10 OTUs for Sample 1512"
             }
            ],
            "label": "1512",
            "method": "update"
           },
           {
            "args": [
             {
              "visible": [
               true
              ]
             },
             {
              "title": "Top 10 OTUs for Sample 1513"
             }
            ],
            "label": "1513",
            "method": "update"
           },
           {
            "args": [
             {
              "visible": [
               true
              ]
             },
             {
              "title": "Top 10 OTUs for Sample 1514"
             }
            ],
            "label": "1514",
            "method": "update"
           },
           {
            "args": [
             {
              "visible": [
               true
              ]
             },
             {
              "title": "Top 10 OTUs for Sample 1515"
             }
            ],
            "label": "1515",
            "method": "update"
           },
           {
            "args": [
             {
              "visible": [
               true
              ]
             },
             {
              "title": "Top 10 OTUs for Sample 1516"
             }
            ],
            "label": "1516",
            "method": "update"
           },
           {
            "args": [
             {
              "visible": [
               true
              ]
             },
             {
              "title": "Top 10 OTUs for Sample 1517"
             }
            ],
            "label": "1517",
            "method": "update"
           },
           {
            "args": [
             {
              "visible": [
               true
              ]
             },
             {
              "title": "Top 10 OTUs for Sample 1518"
             }
            ],
            "label": "1518",
            "method": "update"
           },
           {
            "args": [
             {
              "visible": [
               true
              ]
             },
             {
              "title": "Top 10 OTUs for Sample 1519"
             }
            ],
            "label": "1519",
            "method": "update"
           },
           {
            "args": [
             {
              "visible": [
               true
              ]
             },
             {
              "title": "Top 10 OTUs for Sample 1521"
             }
            ],
            "label": "1521",
            "method": "update"
           },
           {
            "args": [
             {
              "visible": [
               true
              ]
             },
             {
              "title": "Top 10 OTUs for Sample 1524"
             }
            ],
            "label": "1524",
            "method": "update"
           },
           {
            "args": [
             {
              "visible": [
               true
              ]
             },
             {
              "title": "Top 10 OTUs for Sample 1526"
             }
            ],
            "label": "1526",
            "method": "update"
           },
           {
            "args": [
             {
              "visible": [
               true
              ]
             },
             {
              "title": "Top 10 OTUs for Sample 1527"
             }
            ],
            "label": "1527",
            "method": "update"
           },
           {
            "args": [
             {
              "visible": [
               true
              ]
             },
             {
              "title": "Top 10 OTUs for Sample 1530"
             }
            ],
            "label": "1530",
            "method": "update"
           },
           {
            "args": [
             {
              "visible": [
               true
              ]
             },
             {
              "title": "Top 10 OTUs for Sample 1531"
             }
            ],
            "label": "1531",
            "method": "update"
           },
           {
            "args": [
             {
              "visible": [
               true
              ]
             },
             {
              "title": "Top 10 OTUs for Sample 1532"
             }
            ],
            "label": "1532",
            "method": "update"
           },
           {
            "args": [
             {
              "visible": [
               true
              ]
             },
             {
              "title": "Top 10 OTUs for Sample 1533"
             }
            ],
            "label": "1533",
            "method": "update"
           },
           {
            "args": [
             {
              "visible": [
               true
              ]
             },
             {
              "title": "Top 10 OTUs for Sample 1534"
             }
            ],
            "label": "1534",
            "method": "update"
           },
           {
            "args": [
             {
              "visible": [
               true
              ]
             },
             {
              "title": "Top 10 OTUs for Sample 1535"
             }
            ],
            "label": "1535",
            "method": "update"
           },
           {
            "args": [
             {
              "visible": [
               true
              ]
             },
             {
              "title": "Top 10 OTUs for Sample 1536"
             }
            ],
            "label": "1536",
            "method": "update"
           },
           {
            "args": [
             {
              "visible": [
               true
              ]
             },
             {
              "title": "Top 10 OTUs for Sample 1537"
             }
            ],
            "label": "1537",
            "method": "update"
           },
           {
            "args": [
             {
              "visible": [
               true
              ]
             },
             {
              "title": "Top 10 OTUs for Sample 1539"
             }
            ],
            "label": "1539",
            "method": "update"
           },
           {
            "args": [
             {
              "visible": [
               true
              ]
             },
             {
              "title": "Top 10 OTUs for Sample 1540"
             }
            ],
            "label": "1540",
            "method": "update"
           },
           {
            "args": [
             {
              "visible": [
               true
              ]
             },
             {
              "title": "Top 10 OTUs for Sample 1541"
             }
            ],
            "label": "1541",
            "method": "update"
           },
           {
            "args": [
             {
              "visible": [
               true
              ]
             },
             {
              "title": "Top 10 OTUs for Sample 1542"
             }
            ],
            "label": "1542",
            "method": "update"
           },
           {
            "args": [
             {
              "visible": [
               true
              ]
             },
             {
              "title": "Top 10 OTUs for Sample 1543"
             }
            ],
            "label": "1543",
            "method": "update"
           },
           {
            "args": [
             {
              "visible": [
               true
              ]
             },
             {
              "title": "Top 10 OTUs for Sample 1544"
             }
            ],
            "label": "1544",
            "method": "update"
           },
           {
            "args": [
             {
              "visible": [
               true
              ]
             },
             {
              "title": "Top 10 OTUs for Sample 1545"
             }
            ],
            "label": "1545",
            "method": "update"
           },
           {
            "args": [
             {
              "visible": [
               true
              ]
             },
             {
              "title": "Top 10 OTUs for Sample 1546"
             }
            ],
            "label": "1546",
            "method": "update"
           },
           {
            "args": [
             {
              "visible": [
               true
              ]
             },
             {
              "title": "Top 10 OTUs for Sample 1547"
             }
            ],
            "label": "1547",
            "method": "update"
           },
           {
            "args": [
             {
              "visible": [
               true
              ]
             },
             {
              "title": "Top 10 OTUs for Sample 1548"
             }
            ],
            "label": "1548",
            "method": "update"
           },
           {
            "args": [
             {
              "visible": [
               true
              ]
             },
             {
              "title": "Top 10 OTUs for Sample 1549"
             }
            ],
            "label": "1549",
            "method": "update"
           },
           {
            "args": [
             {
              "visible": [
               true
              ]
             },
             {
              "title": "Top 10 OTUs for Sample 1550"
             }
            ],
            "label": "1550",
            "method": "update"
           },
           {
            "args": [
             {
              "visible": [
               true
              ]
             },
             {
              "title": "Top 10 OTUs for Sample 1551"
             }
            ],
            "label": "1551",
            "method": "update"
           },
           {
            "args": [
             {
              "visible": [
               true
              ]
             },
             {
              "title": "Top 10 OTUs for Sample 1552"
             }
            ],
            "label": "1552",
            "method": "update"
           },
           {
            "args": [
             {
              "visible": [
               true
              ]
             },
             {
              "title": "Top 10 OTUs for Sample 1553"
             }
            ],
            "label": "1553",
            "method": "update"
           },
           {
            "args": [
             {
              "visible": [
               true
              ]
             },
             {
              "title": "Top 10 OTUs for Sample 1554"
             }
            ],
            "label": "1554",
            "method": "update"
           },
           {
            "args": [
             {
              "visible": [
               true
              ]
             },
             {
              "title": "Top 10 OTUs for Sample 1555"
             }
            ],
            "label": "1555",
            "method": "update"
           },
           {
            "args": [
             {
              "visible": [
               true
              ]
             },
             {
              "title": "Top 10 OTUs for Sample 1556"
             }
            ],
            "label": "1556",
            "method": "update"
           },
           {
            "args": [
             {
              "visible": [
               true
              ]
             },
             {
              "title": "Top 10 OTUs for Sample 1557"
             }
            ],
            "label": "1557",
            "method": "update"
           },
           {
            "args": [
             {
              "visible": [
               true
              ]
             },
             {
              "title": "Top 10 OTUs for Sample 1558"
             }
            ],
            "label": "1558",
            "method": "update"
           },
           {
            "args": [
             {
              "visible": [
               true
              ]
             },
             {
              "title": "Top 10 OTUs for Sample 1561"
             }
            ],
            "label": "1561",
            "method": "update"
           },
           {
            "args": [
             {
              "visible": [
               true
              ]
             },
             {
              "title": "Top 10 OTUs for Sample 1562"
             }
            ],
            "label": "1562",
            "method": "update"
           },
           {
            "args": [
             {
              "visible": [
               true
              ]
             },
             {
              "title": "Top 10 OTUs for Sample 1563"
             }
            ],
            "label": "1563",
            "method": "update"
           },
           {
            "args": [
             {
              "visible": [
               true
              ]
             },
             {
              "title": "Top 10 OTUs for Sample 1564"
             }
            ],
            "label": "1564",
            "method": "update"
           },
           {
            "args": [
             {
              "visible": [
               true
              ]
             },
             {
              "title": "Top 10 OTUs for Sample 1572"
             }
            ],
            "label": "1572",
            "method": "update"
           },
           {
            "args": [
             {
              "visible": [
               true
              ]
             },
             {
              "title": "Top 10 OTUs for Sample 1573"
             }
            ],
            "label": "1573",
            "method": "update"
           },
           {
            "args": [
             {
              "visible": [
               true
              ]
             },
             {
              "title": "Top 10 OTUs for Sample 1574"
             }
            ],
            "label": "1574",
            "method": "update"
           },
           {
            "args": [
             {
              "visible": [
               true
              ]
             },
             {
              "title": "Top 10 OTUs for Sample 1576"
             }
            ],
            "label": "1576",
            "method": "update"
           },
           {
            "args": [
             {
              "visible": [
               true
              ]
             },
             {
              "title": "Top 10 OTUs for Sample 1577"
             }
            ],
            "label": "1577",
            "method": "update"
           },
           {
            "args": [
             {
              "visible": [
               true
              ]
             },
             {
              "title": "Top 10 OTUs for Sample 1581"
             }
            ],
            "label": "1581",
            "method": "update"
           },
           {
            "args": [
             {
              "visible": [
               true
              ]
             },
             {
              "title": "Top 10 OTUs for Sample 1601"
             }
            ],
            "label": "1601",
            "method": "update"
           }
          ],
          "direction": "down",
          "showactive": true
         }
        ],
        "xaxis": {
         "autorange": true,
         "range": [
          0,
          171.57894736842104
         ],
         "title": {
          "text": "Sample Values"
         },
         "type": "linear"
        },
        "yaxis": {
         "autorange": true,
         "range": [
          -0.5,
          9.5
         ],
         "title": {
          "text": "OTU IDs"
         },
         "type": "category"
        }
       }
      },
      "image/png": "[encoded data removed]",
      "text/html": [
       "<div>                            <div id=\"686d698e-26e3-48af-8bae-f03eb6edfbb2\" class=\"plotly-graph-div\" style=\"height:525px; width:100%;\"></div>            <script type=\"text/javascript\">                require([\"plotly\"], function(Plotly) {                    window.PLOTLYENV=window.PLOTLYENV || {};                                    if (document.getElementById(\"686d698e-26e3-48af-8bae-f03eb6edfbb2\")) {                    Plotly.newPlot(                        \"686d698e-26e3-48af-8bae-f03eb6edfbb2\",                        [{\"orientation\":\"h\",\"text\":[\"Bacteria;Firmicutes;Clostridia;Clostridiales\",\"Bacteria;Firmicutes;Clostridia;Clostridiales;IncertaeSedisXI;Anaerococcus\",\"Bacteria\",\"Bacteria\",\"Bacteria;Bacteroidetes;Bacteroidia;Bacteroidales;Porphyromonadaceae;Porphyromonas\",\"Bacteria\",\"Bacteria;Firmicutes;Clostridia;Clostridiales;IncertaeSedisXI\",\"Bacteria\",\"Bacteria;Firmicutes;Clostridia;Clostridiales;IncertaeSedisXI;Peptoniphilus\",\"Bacteria;Bacteroidetes;Bacteroidia;Bacteroidales;Porphyromonadaceae;Porphyromonas\"],\"x\":[40,40,47,50,51,71,78,113,126,163],\"y\":[\"OTU 1977\",\"OTU 2318\",\"OTU 189\",\"OTU 352\",\"OTU 1189\",\"OTU 41\",\"OTU 2264\",\"OTU 482\",\"OTU 2859\",\"OTU 1167\"],\"type\":\"bar\"}],                        {\"template\":{\"data\":{\"histogram2dcontour\":[{\"type\":\"histogram2dcontour\",\"colorbar\":{\"outlinewidth\":0,\"ticks\":\"\"},\"colorscale\":[[0.0,\"#0d0887\"],[0.1111111111111111,\"#46039f\"],[0.2222222222222222,\"#7201a8\"],[0.3333333333333333,\"#9c179e\"],[0.4444444444444444,\"#bd3786\"],[0.5555555555555556,\"#d8576b\"],[0.6666666666666666,\"#ed7953\"],[0.7777777777777778,\"#fb9f3a\"],[0.8888888888888888,\"#fdca26\"],[1.0,\"#f0f921\"]]}],\"choropleth\":[{\"type\":\"choropleth\",\"colorbar\":{\"outlinewidth\":0,\"ticks\":\"\"}}],\"histogram2d\":[{\"type\":\"histogram2d\",\"colorbar\":{\"outlinewidth\":0,\"ticks\":\"\"},\"colorscale\":[[0.0,\"#0d0887\"],[0.1111111111111111,\"#46039f\"],[0.2222222222222222,\"#7201a8\"],[0.3333333333333333,\"#9c179e\"],[0.4444444444444444,\"#bd3786\"],[0.5555555555555556,\"#d8576b\"],[0.6666666666666666,\"#ed7953\"],[0.7777777777777778,\"#fb9f3a\"],[0.8888888888888888,\"#fdca26\"],[1.0,\"#f0f921\"]]}],\"heatmap\":[{\"type\":\"heatmap\",\"colorbar\":{\"outlinewidth\":0,\"ticks\":\"\"},\"colorscale\":[[0.0,\"#0d0887\"],[0.1111111111111111,\"#46039f\"],[0.2222222222222222,\"#7201a8\"],[0.3333333333333333,\"#9c179e\"],[0.4444444444444444,\"#bd3786\"],[0.5555555555555556,\"#d8576b\"],[0.6666666666666666,\"#ed7953\"],[0.7777777777777778,\"#fb9f3a\"],[0.8888888888888888,\"#fdca26\"],[1.0,\"#f0f921\"]]}],\"heatmapgl\":[{\"type\":\"heatmapgl\",\"colorbar\":{\"outlinewidth\":0,\"ticks\":\"\"},\"colorscale\":[[0.0,\"#0d0887\"],[0.1111111111111111,\"#46039f\"],[0.2222222222222222,\"#7201a8\"],[0.3333333333333333,\"#9c179e\"],[0.4444444444444444,\"#bd3786\"],[0.5555555555555556,\"#d8576b\"],[0.6666666666666666,\"#ed7953\"],[0.7777777777777778,\"#fb9f3a\"],[0.8888888888888888,\"#fdca26\"],[1.0,\"#f0f921\"]]}],\"contourcarpet\":[{\"type\":\"contourcarpet\",\"colorbar\":{\"outlinewidth\":0,\"ticks\":\"\"}}],\"contour\":[{\"type\":\"contour\",\"colorbar\":{\"outlinewidth\":0,\"ticks\":\"\"},\"colorscale\":[[0.0,\"#0d0887\"],[0.1111111111111111,\"#46039f\"],[0.2222222222222222,\"#7201a8\"],[0.3333333333333333,\"#9c179e\"],[0.4444444444444444,\"#bd3786\"],[0.5555555555555556,\"#d8576b\"],[0.6666666666666666,\"#ed7953\"],[0.7777777777777778,\"#fb9f3a\"],[0.8888888888888888,\"#fdca26\"],[1.0,\"#f0f921\"]]}],\"surface\":[{\"type\":\"surface\",\"colorbar\":{\"outlinewidth\":0,\"ticks\":\"\"},\"colorscale\":[[0.0,\"#0d0887\"],[0.1111111111111111,\"#46039f\"],[0.2222222222222222,\"#7201a8\"],[0.3333333333333333,\"#9c179e\"],[0.4444444444444444,\"#bd3786\"],[0.5555555555555556,\"#d8576b\"],[0.6666666666666666,\"#ed7953\"],[0.7777777777777778,\"#fb9f3a\"],[0.8888888888888888,\"#fdca26\"],[1.0,\"#f0f921\"]]}],\"mesh3d\":[{\"type\":\"mesh3d\",\"colorbar\":{\"outlinewidth\":0,\"ticks\":\"\"}}],\"scatter\":[{\"fillpattern\":{\"fillmode\":\"overlay\",\"size\":10,\"solidity\":0.2},\"type\":\"scatter\"}],\"parcoords\":[{\"type\":\"parcoords\",\"line\":{\"colorbar\":{\"outlinewidth\":0,\"ticks\":\"\"}}}],\"scatterpolargl\":[{\"type\":\"scatterpolargl\",\"marker\":{\"colorbar\":{\"outlinewidth\":0,\"ticks\":\"\"}}}],\"bar\":[{\"error_x\":{\"color\":\"#2a3f5f\"},\"error_y\":{\"color\":\"#2a3f5f\"},\"marker\":{\"line\":{\"color\":\"#E5ECF6\",\"width\":0.5},\"pattern\":{\"fillmode\":\"overlay\",\"size\":10,\"solidity\":0.2}},\"type\":\"bar\"}],\"scattergeo\":[{\"type\":\"scattergeo\",\"marker\":{\"colorbar\":{\"outlinewidth\":0,\"ticks\":\"\"}}}],\"scatterpolar\":[{\"type\":\"scatterpolar\",\"marker\":{\"colorbar\":{\"outlinewidth\":0,\"ticks\":\"\"}}}],\"histogram\":[{\"marker\":{\"pattern\":{\"fillmode\":\"overlay\",\"size\":10,\"solidity\":0.2}},\"type\":\"histogram\"}],\"scattergl\":[{\"type\":\"scattergl\",\"marker\":{\"colorbar\":{\"outlinewidth\":0,\"ticks\":\"\"}}}],\"scatter3d\":[{\"type\":\"scatter3d\",\"line\":{\"colorbar\":{\"outlinewidth\":0,\"ticks\":\"\"}},\"marker\":{\"colorbar\":{\"outlinewidth\":0,\"ticks\":\"\"}}}],\"scattermapbox\":[{\"type\":\"scattermapbox\",\"marker\":{\"colorbar\":{\"outlinewidth\":0,\"ticks\":\"\"}}}],\"scatterternary\":[{\"type\":\"scatterternary\",\"marker\":{\"colorbar\":{\"outlinewidth\":0,\"ticks\":\"\"}}}],\"scattercarpet\":[{\"type\":\"scattercarpet\",\"marker\":{\"colorbar\":{\"outlinewidth\":0,\"ticks\":\"\"}}}],\"carpet\":[{\"aaxis\":{\"endlinecolor\":\"#2a3f5f\",\"gridcolor\":\"white\",\"linecolor\":\"white\",\"minorgridcolor\":\"white\",\"startlinecolor\":\"#2a3f5f\"},\"baxis\":{\"endlinecolor\":\"#2a3f5f\",\"gridcolor\":\"white\",\"linecolor\":\"white\",\"minorgridcolor\":\"white\",\"startlinecolor\":\"#2a3f5f\"},\"type\":\"carpet\"}],\"table\":[{\"cells\":{\"fill\":{\"color\":\"#EBF0F8\"},\"line\":{\"color\":\"white\"}},\"header\":{\"fill\":{\"color\":\"#C8D4E3\"},\"line\":{\"color\":\"white\"}},\"type\":\"table\"}],\"barpolar\":[{\"marker\":{\"line\":{\"color\":\"#E5ECF6\",\"width\":0.5},\"pattern\":{\"fillmode\":\"overlay\",\"size\":10,\"solidity\":0.2}},\"type\":\"barpolar\"}],\"pie\":[{\"automargin\":true,\"type\":\"pie\"}]},\"layout\":{\"autotypenumbers\":\"strict\",\"colorway\":[\"#636efa\",\"#EF553B\",\"#00cc96\",\"#ab63fa\",\"#FFA15A\",\"#19d3f3\",\"#FF6692\",\"#B6E880\",\"#FF97FF\",\"#FECB52\"],\"font\":{\"color\":\"#2a3f5f\"},\"hovermode\":\"closest\",\"hoverlabel\":{\"align\":\"left\"},\"paper_bgcolor\":\"white\",\"plot_bgcolor\":\"#E5ECF6\",\"polar\":{\"bgcolor\":\"#E5ECF6\",\"angularaxis\":{\"gridcolor\":\"white\",\"linecolor\":\"white\",\"ticks\":\"\"},\"radialaxis\":{\"gridcolor\":\"white\",\"linecolor\":\"white\",\"ticks\":\"\"}},\"ternary\":{\"bgcolor\":\"#E5ECF6\",\"aaxis\":{\"gridcolor\":\"white\",\"linecolor\":\"white\",\"ticks\":\"\"},\"baxis\":{\"gridcolor\":\"white\",\"linecolor\":\"white\",\"ticks\":\"\"},\"caxis\":{\"gridcolor\":\"white\",\"linecolor\":\"white\",\"ticks\":\"\"}},\"coloraxis\":{\"colorbar\":{\"outlinewidth\":0,\"ticks\":\"\"}},\"colorscale\":{\"sequential\":[[0.0,\"#0d0887\"],[0.1111111111111111,\"#46039f\"],[0.2222222222222222,\"#7201a8\"],[0.3333333333333333,\"#9c179e\"],[0.4444444444444444,\"#bd3786\"],[0.5555555555555556,\"#d8576b\"],[0.6666666666666666,\"#ed7953\"],[0.7777777777777778,\"#fb9f3a\"],[0.8888888888888888,\"#fdca26\"],[1.0,\"#f0f921\"]],\"sequentialminus\":[[0.0,\"#0d0887\"],[0.1111111111111111,\"#46039f\"],[0.2222222222222222,\"#7201a8\"],[0.3333333333333333,\"#9c179e\"],[0.4444444444444444,\"#bd3786\"],[0.5555555555555556,\"#d8576b\"],[0.6666666666666666,\"#ed7953\"],[0.7777777777777778,\"#fb9f3a\"],[0.8888888888888888,\"#fdca26\"],[1.0,\"#f0f921\"]],\"diverging\":[[0,\"#8e0152\"],[0.1,\"#c51b7d\"],[0.2,\"#de77ae\"],[0.3,\"#f1b6da\"],[0.4,\"#fde0ef\"],[0.5,\"#f7f7f7\"],[0.6,\"#e6f5d0\"],[0.7,\"#b8e186\"],[0.8,\"#7fbc41\"],[0.9,\"#4d9221\"],[1,\"#276419\"]]},\"xaxis\":{\"gridcolor\":\"white\",\"linecolor\":\"white\",\"ticks\":\"\",\"title\":{\"standoff\":15},\"zerolinecolor\":\"white\",\"automargin\":true,\"zerolinewidth\":2},\"yaxis\":{\"gridcolor\":\"white\",\"linecolor\":\"white\",\"ticks\":\"\",\"title\":{\"standoff\":15},\"zerolinecolor\":\"white\",\"automargin\":true,\"zerolinewidth\":2},\"scene\":{\"xaxis\":{\"backgroundcolor\":\"#E5ECF6\",\"gridcolor\":\"white\",\"linecolor\":\"white\",\"showbackground\":true,\"ticks\":\"\",\"zerolinecolor\":\"white\",\"gridwidth\":2},\"yaxis\":{\"backgroundcolor\":\"#E5ECF6\",\"gridcolor\":\"white\",\"linecolor\":\"white\",\"showbackground\":true,\"ticks\":\"\",\"zerolinecolor\":\"white\",\"gridwidth\":2},\"zaxis\":{\"backgroundcolor\":\"#E5ECF6\",\"gridcolor\":\"white\",\"linecolor\":\"white\",\"showbackground\":true,\"ticks\":\"\",\"zerolinecolor\":\"white\",\"gridwidth\":2}},\"shapedefaults\":{\"line\":{\"color\":\"#2a3f5f\"}},\"annotationdefaults\":{\"arrowcolor\":\"#2a3f5f\",\"arrowhead\":0,\"arrowwidth\":1},\"geo\":{\"bgcolor\":\"white\",\"landcolor\":\"#E5ECF6\",\"subunitcolor\":\"white\",\"showland\":true,\"showlakes\":true,\"lakecolor\":\"white\"},\"title\":{\"x\":0.05},\"mapbox\":{\"style\":\"light\"}}},\"title\":{\"text\":\"Top 10 OTUs for Sample 940\"},\"xaxis\":{\"title\":{\"text\":\"Sample Values\"}},\"yaxis\":{\"title\":{\"text\":\"OTU IDs\"}},\"updatemenus\":[{\"buttons\":[{\"args\":[{\"visible\":[true]},{\"title\":\"Top 10 OTUs for Sample 940\"}],\"label\":\"940\",\"method\":\"update\"},{\"args\":[{\"visible\":[true]},{\"title\":\"Top 10 OTUs for Sample 941\"}],\"label\":\"941\",\"method\":\"update\"},{\"args\":[{\"visible\":[true]},{\"title\":\"Top 10 OTUs for Sample 943\"}],\"label\":\"943\",\"method\":\"update\"},{\"args\":[{\"visible\":[true]},{\"title\":\"Top 10 OTUs for Sample 944\"}],\"label\":\"944\",\"method\":\"update\"},{\"args\":[{\"visible\":[true]},{\"title\":\"Top 10 OTUs for Sample 945\"}],\"label\":\"945\",\"method\":\"update\"},{\"args\":[{\"visible\":[true]},{\"title\":\"Top 10 OTUs for Sample 946\"}],\"label\":\"946\",\"method\":\"update\"},{\"args\":[{\"visible\":[true]},{\"title\":\"Top 10 OTUs for Sample 947\"}],\"label\":\"947\",\"method\":\"update\"},{\"args\":[{\"visible\":[true]},{\"title\":\"Top 10 OTUs for Sample 948\"}],\"label\":\"948\",\"method\":\"update\"},{\"args\":[{\"visible\":[true]},{\"title\":\"Top 10 OTUs for Sample 949\"}],\"label\":\"949\",\"method\":\"update\"},{\"args\":[{\"visible\":[true]},{\"title\":\"Top 10 OTUs for Sample 950\"}],\"label\":\"950\",\"method\":\"update\"},{\"args\":[{\"visible\":[true]},{\"title\":\"Top 10 OTUs for Sample 952\"}],\"label\":\"952\",\"method\":\"update\"},{\"args\":[{\"visible\":[true]},{\"title\":\"Top 10 OTUs for Sample 953\"}],\"label\":\"953\",\"method\":\"update\"},{\"args\":[{\"visible\":[true]},{\"title\":\"Top 10 OTUs for Sample 954\"}],\"label\":\"954\",\"method\":\"update\"},{\"args\":[{\"visible\":[true]},{\"title\":\"Top 10 OTUs for Sample 955\"}],\"label\":\"955\",\"method\":\"update\"},{\"args\":[{\"visible\":[true]},{\"title\":\"Top 10 OTUs for Sample 956\"}],\"label\":\"956\",\"method\":\"update\"},{\"args\":[{\"visible\":[true]},{\"title\":\"Top 10 OTUs for Sample 958\"}],\"label\":\"958\",\"method\":\"update\"},{\"args\":[{\"visible\":[true]},{\"title\":\"Top 10 OTUs for Sample 959\"}],\"label\":\"959\",\"method\":\"update\"},{\"args\":[{\"visible\":[true]},{\"title\":\"Top 10 OTUs for Sample 960\"}],\"label\":\"960\",\"method\":\"update\"},{\"args\":[{\"visible\":[true]},{\"title\":\"Top 10 OTUs for Sample 961\"}],\"label\":\"961\",\"method\":\"update\"},{\"args\":[{\"visible\":[true]},{\"title\":\"Top 10 OTUs for Sample 962\"}],\"label\":\"962\",\"method\":\"update\"},{\"args\":[{\"visible\":[true]},{\"title\":\"Top 10 OTUs for Sample 963\"}],\"label\":\"963\",\"method\":\"update\"},{\"args\":[{\"visible\":[true]},{\"title\":\"Top 10 OTUs for Sample 964\"}],\"label\":\"964\",\"method\":\"update\"},{\"args\":[{\"visible\":[true]},{\"title\":\"Top 10 OTUs for Sample 966\"}],\"label\":\"966\",\"method\":\"update\"},{\"args\":[{\"visible\":[true]},{\"title\":\"Top 10 OTUs for Sample 967\"}],\"label\":\"967\",\"method\":\"update\"},{\"args\":[{\"visible\":[true]},{\"title\":\"Top 10 OTUs for Sample 968\"}],\"label\":\"968\",\"method\":\"update\"},{\"args\":[{\"visible\":[true]},{\"title\":\"Top 10 OTUs for Sample 969\"}],\"label\":\"969\",\"method\":\"update\"},{\"args\":[{\"visible\":[true]},{\"title\":\"Top 10 OTUs for Sample 970\"}],\"label\":\"970\",\"method\":\"update\"},{\"args\":[{\"visible\":[true]},{\"title\":\"Top 10 OTUs for Sample 971\"}],\"label\":\"971\",\"method\":\"update\"},{\"args\":[{\"visible\":[true]},{\"title\":\"Top 10 OTUs for Sample 972\"}],\"label\":\"972\",\"method\":\"update\"},{\"args\":[{\"visible\":[true]},{\"title\":\"Top 10 OTUs for Sample 973\"}],\"label\":\"973\",\"method\":\"update\"},{\"args\":[{\"visible\":[true]},{\"title\":\"Top 10 OTUs for Sample 974\"}],\"label\":\"974\",\"method\":\"update\"},{\"args\":[{\"visible\":[true]},{\"title\":\"Top 10 OTUs for Sample 975\"}],\"label\":\"975\",\"method\":\"update\"},{\"args\":[{\"visible\":[true]},{\"title\":\"Top 10 OTUs for Sample 978\"}],\"label\":\"978\",\"method\":\"update\"},{\"args\":[{\"visible\":[true]},{\"title\":\"Top 10 OTUs for Sample 1233\"}],\"label\":\"1233\",\"method\":\"update\"},{\"args\":[{\"visible\":[true]},{\"title\":\"Top 10 OTUs for Sample 1234\"}],\"label\":\"1234\",\"method\":\"update\"},{\"args\":[{\"visible\":[true]},{\"title\":\"Top 10 OTUs for Sample 1235\"}],\"label\":\"1235\",\"method\":\"update\"},{\"args\":[{\"visible\":[true]},{\"title\":\"Top 10 OTUs for Sample 1236\"}],\"label\":\"1236\",\"method\":\"update\"},{\"args\":[{\"visible\":[true]},{\"title\":\"Top 10 OTUs for Sample 1237\"}],\"label\":\"1237\",\"method\":\"update\"},{\"args\":[{\"visible\":[true]},{\"title\":\"Top 10 OTUs for Sample 1238\"}],\"label\":\"1238\",\"method\":\"update\"},{\"args\":[{\"visible\":[true]},{\"title\":\"Top 10 OTUs for Sample 1242\"}],\"label\":\"1242\",\"method\":\"update\"},{\"args\":[{\"visible\":[true]},{\"title\":\"Top 10 OTUs for Sample 1243\"}],\"label\":\"1243\",\"method\":\"update\"},{\"args\":[{\"visible\":[true]},{\"title\":\"Top 10 OTUs for Sample 1246\"}],\"label\":\"1246\",\"method\":\"update\"},{\"args\":[{\"visible\":[true]},{\"title\":\"Top 10 OTUs for Sample 1253\"}],\"label\":\"1253\",\"method\":\"update\"},{\"args\":[{\"visible\":[true]},{\"title\":\"Top 10 OTUs for Sample 1254\"}],\"label\":\"1254\",\"method\":\"update\"},{\"args\":[{\"visible\":[true]},{\"title\":\"Top 10 OTUs for Sample 1258\"}],\"label\":\"1258\",\"method\":\"update\"},{\"args\":[{\"visible\":[true]},{\"title\":\"Top 10 OTUs for Sample 1259\"}],\"label\":\"1259\",\"method\":\"update\"},{\"args\":[{\"visible\":[true]},{\"title\":\"Top 10 OTUs for Sample 1260\"}],\"label\":\"1260\",\"method\":\"update\"},{\"args\":[{\"visible\":[true]},{\"title\":\"Top 10 OTUs for Sample 1264\"}],\"label\":\"1264\",\"method\":\"update\"},{\"args\":[{\"visible\":[true]},{\"title\":\"Top 10 OTUs for Sample 1265\"}],\"label\":\"1265\",\"method\":\"update\"},{\"args\":[{\"visible\":[true]},{\"title\":\"Top 10 OTUs for Sample 1273\"}],\"label\":\"1273\",\"method\":\"update\"},{\"args\":[{\"visible\":[true]},{\"title\":\"Top 10 OTUs for Sample 1275\"}],\"label\":\"1275\",\"method\":\"update\"},{\"args\":[{\"visible\":[true]},{\"title\":\"Top 10 OTUs for Sample 1276\"}],\"label\":\"1276\",\"method\":\"update\"},{\"args\":[{\"visible\":[true]},{\"title\":\"Top 10 OTUs for Sample 1277\"}],\"label\":\"1277\",\"method\":\"update\"},{\"args\":[{\"visible\":[true]},{\"title\":\"Top 10 OTUs for Sample 1278\"}],\"label\":\"1278\",\"method\":\"update\"},{\"args\":[{\"visible\":[true]},{\"title\":\"Top 10 OTUs for Sample 1279\"}],\"label\":\"1279\",\"method\":\"update\"},{\"args\":[{\"visible\":[true]},{\"title\":\"Top 10 OTUs for Sample 1280\"}],\"label\":\"1280\",\"method\":\"update\"},{\"args\":[{\"visible\":[true]},{\"title\":\"Top 10 OTUs for Sample 1281\"}],\"label\":\"1281\",\"method\":\"update\"},{\"args\":[{\"visible\":[true]},{\"title\":\"Top 10 OTUs for Sample 1282\"}],\"label\":\"1282\",\"method\":\"update\"},{\"args\":[{\"visible\":[true]},{\"title\":\"Top 10 OTUs for Sample 1283\"}],\"label\":\"1283\",\"method\":\"update\"},{\"args\":[{\"visible\":[true]},{\"title\":\"Top 10 OTUs for Sample 1284\"}],\"label\":\"1284\",\"method\":\"update\"},{\"args\":[{\"visible\":[true]},{\"title\":\"Top 10 OTUs for Sample 1285\"}],\"label\":\"1285\",\"method\":\"update\"},{\"args\":[{\"visible\":[true]},{\"title\":\"Top 10 OTUs for Sample 1286\"}],\"label\":\"1286\",\"method\":\"update\"},{\"args\":[{\"visible\":[true]},{\"title\":\"Top 10 OTUs for Sample 1287\"}],\"label\":\"1287\",\"method\":\"update\"},{\"args\":[{\"visible\":[true]},{\"title\":\"Top 10 OTUs for Sample 1288\"}],\"label\":\"1288\",\"method\":\"update\"},{\"args\":[{\"visible\":[true]},{\"title\":\"Top 10 OTUs for Sample 1289\"}],\"label\":\"1289\",\"method\":\"update\"},{\"args\":[{\"visible\":[true]},{\"title\":\"Top 10 OTUs for Sample 1290\"}],\"label\":\"1290\",\"method\":\"update\"},{\"args\":[{\"visible\":[true]},{\"title\":\"Top 10 OTUs for Sample 1291\"}],\"label\":\"1291\",\"method\":\"update\"},{\"args\":[{\"visible\":[true]},{\"title\":\"Top 10 OTUs for Sample 1292\"}],\"label\":\"1292\",\"method\":\"update\"},{\"args\":[{\"visible\":[true]},{\"title\":\"Top 10 OTUs for Sample 1293\"}],\"label\":\"1293\",\"method\":\"update\"},{\"args\":[{\"visible\":[true]},{\"title\":\"Top 10 OTUs for Sample 1294\"}],\"label\":\"1294\",\"method\":\"update\"},{\"args\":[{\"visible\":[true]},{\"title\":\"Top 10 OTUs for Sample 1295\"}],\"label\":\"1295\",\"method\":\"update\"},{\"args\":[{\"visible\":[true]},{\"title\":\"Top 10 OTUs for Sample 1296\"}],\"label\":\"1296\",\"method\":\"update\"},{\"args\":[{\"visible\":[true]},{\"title\":\"Top 10 OTUs for Sample 1297\"}],\"label\":\"1297\",\"method\":\"update\"},{\"args\":[{\"visible\":[true]},{\"title\":\"Top 10 OTUs for Sample 1298\"}],\"label\":\"1298\",\"method\":\"update\"},{\"args\":[{\"visible\":[true]},{\"title\":\"Top 10 OTUs for Sample 1308\"}],\"label\":\"1308\",\"method\":\"update\"},{\"args\":[{\"visible\":[true]},{\"title\":\"Top 10 OTUs for Sample 1309\"}],\"label\":\"1309\",\"method\":\"update\"},{\"args\":[{\"visible\":[true]},{\"title\":\"Top 10 OTUs for Sample 1310\"}],\"label\":\"1310\",\"method\":\"update\"},{\"args\":[{\"visible\":[true]},{\"title\":\"Top 10 OTUs for Sample 1374\"}],\"label\":\"1374\",\"method\":\"update\"},{\"args\":[{\"visible\":[true]},{\"title\":\"Top 10 OTUs for Sample 1415\"}],\"label\":\"1415\",\"method\":\"update\"},{\"args\":[{\"visible\":[true]},{\"title\":\"Top 10 OTUs for Sample 1439\"}],\"label\":\"1439\",\"method\":\"update\"},{\"args\":[{\"visible\":[true]},{\"title\":\"Top 10 OTUs for Sample 1441\"}],\"label\":\"1441\",\"method\":\"update\"},{\"args\":[{\"visible\":[true]},{\"title\":\"Top 10 OTUs for Sample 1443\"}],\"label\":\"1443\",\"method\":\"update\"},{\"args\":[{\"visible\":[true]},{\"title\":\"Top 10 OTUs for Sample 1486\"}],\"label\":\"1486\",\"method\":\"update\"},{\"args\":[{\"visible\":[true]},{\"title\":\"Top 10 OTUs for Sample 1487\"}],\"label\":\"1487\",\"method\":\"update\"},{\"args\":[{\"visible\":[true]},{\"title\":\"Top 10 OTUs for Sample 1489\"}],\"label\":\"1489\",\"method\":\"update\"},{\"args\":[{\"visible\":[true]},{\"title\":\"Top 10 OTUs for Sample 1490\"}],\"label\":\"1490\",\"method\":\"update\"},{\"args\":[{\"visible\":[true]},{\"title\":\"Top 10 OTUs for Sample 1491\"}],\"label\":\"1491\",\"method\":\"update\"},{\"args\":[{\"visible\":[true]},{\"title\":\"Top 10 OTUs for Sample 1494\"}],\"label\":\"1494\",\"method\":\"update\"},{\"args\":[{\"visible\":[true]},{\"title\":\"Top 10 OTUs for Sample 1495\"}],\"label\":\"1495\",\"method\":\"update\"},{\"args\":[{\"visible\":[true]},{\"title\":\"Top 10 OTUs for Sample 1497\"}],\"label\":\"1497\",\"method\":\"update\"},{\"args\":[{\"visible\":[true]},{\"title\":\"Top 10 OTUs for Sample 1499\"}],\"label\":\"1499\",\"method\":\"update\"},{\"args\":[{\"visible\":[true]},{\"title\":\"Top 10 OTUs for Sample 1500\"}],\"label\":\"1500\",\"method\":\"update\"},{\"args\":[{\"visible\":[true]},{\"title\":\"Top 10 OTUs for Sample 1501\"}],\"label\":\"1501\",\"method\":\"update\"},{\"args\":[{\"visible\":[true]},{\"title\":\"Top 10 OTUs for Sample 1502\"}],\"label\":\"1502\",\"method\":\"update\"},{\"args\":[{\"visible\":[true]},{\"title\":\"Top 10 OTUs for Sample 1503\"}],\"label\":\"1503\",\"method\":\"update\"},{\"args\":[{\"visible\":[true]},{\"title\":\"Top 10 OTUs for Sample 1504\"}],\"label\":\"1504\",\"method\":\"update\"},{\"args\":[{\"visible\":[true]},{\"title\":\"Top 10 OTUs for Sample 1505\"}],\"label\":\"1505\",\"method\":\"update\"},{\"args\":[{\"visible\":[true]},{\"title\":\"Top 10 OTUs for Sample 1506\"}],\"label\":\"1506\",\"method\":\"update\"},{\"args\":[{\"visible\":[true]},{\"title\":\"Top 10 OTUs for Sample 1507\"}],\"label\":\"1507\",\"method\":\"update\"},{\"args\":[{\"visible\":[true]},{\"title\":\"Top 10 OTUs for Sample 1508\"}],\"label\":\"1508\",\"method\":\"update\"},{\"args\":[{\"visible\":[true]},{\"title\":\"Top 10 OTUs for Sample 1510\"}],\"label\":\"1510\",\"method\":\"update\"},{\"args\":[{\"visible\":[true]},{\"title\":\"Top 10 OTUs for Sample 1511\"}],\"label\":\"1511\",\"method\":\"update\"},{\"args\":[{\"visible\":[true]},{\"title\":\"Top 10 OTUs for Sample 1512\"}],\"label\":\"1512\",\"method\":\"update\"},{\"args\":[{\"visible\":[true]},{\"title\":\"Top 10 OTUs for Sample 1513\"}],\"label\":\"1513\",\"method\":\"update\"},{\"args\":[{\"visible\":[true]},{\"title\":\"Top 10 OTUs for Sample 1514\"}],\"label\":\"1514\",\"method\":\"update\"},{\"args\":[{\"visible\":[true]},{\"title\":\"Top 10 OTUs for Sample 1515\"}],\"label\":\"1515\",\"method\":\"update\"},{\"args\":[{\"visible\":[true]},{\"title\":\"Top 10 OTUs for Sample 1516\"}],\"label\":\"1516\",\"method\":\"update\"},{\"args\":[{\"visible\":[true]},{\"title\":\"Top 10 OTUs for Sample 1517\"}],\"label\":\"1517\",\"method\":\"update\"},{\"args\":[{\"visible\":[true]},{\"title\":\"Top 10 OTUs for Sample 1518\"}],\"label\":\"1518\",\"method\":\"update\"},{\"args\":[{\"visible\":[true]},{\"title\":\"Top 10 OTUs for Sample 1519\"}],\"label\":\"1519\",\"method\":\"update\"},{\"args\":[{\"visible\":[true]},{\"title\":\"Top 10 OTUs for Sample 1521\"}],\"label\":\"1521\",\"method\":\"update\"},{\"args\":[{\"visible\":[true]},{\"title\":\"Top 10 OTUs for Sample 1524\"}],\"label\":\"1524\",\"method\":\"update\"},{\"args\":[{\"visible\":[true]},{\"title\":\"Top 10 OTUs for Sample 1526\"}],\"label\":\"1526\",\"method\":\"update\"},{\"args\":[{\"visible\":[true]},{\"title\":\"Top 10 OTUs for Sample 1527\"}],\"label\":\"1527\",\"method\":\"update\"},{\"args\":[{\"visible\":[true]},{\"title\":\"Top 10 OTUs for Sample 1530\"}],\"label\":\"1530\",\"method\":\"update\"},{\"args\":[{\"visible\":[true]},{\"title\":\"Top 10 OTUs for Sample 1531\"}],\"label\":\"1531\",\"method\":\"update\"},{\"args\":[{\"visible\":[true]},{\"title\":\"Top 10 OTUs for Sample 1532\"}],\"label\":\"1532\",\"method\":\"update\"},{\"args\":[{\"visible\":[true]},{\"title\":\"Top 10 OTUs for Sample 1533\"}],\"label\":\"1533\",\"method\":\"update\"},{\"args\":[{\"visible\":[true]},{\"title\":\"Top 10 OTUs for Sample 1534\"}],\"label\":\"1534\",\"method\":\"update\"},{\"args\":[{\"visible\":[true]},{\"title\":\"Top 10 OTUs for Sample 1535\"}],\"label\":\"1535\",\"method\":\"update\"},{\"args\":[{\"visible\":[true]},{\"title\":\"Top 10 OTUs for Sample 1536\"}],\"label\":\"1536\",\"method\":\"update\"},{\"args\":[{\"visible\":[true]},{\"title\":\"Top 10 OTUs for Sample 1537\"}],\"label\":\"1537\",\"method\":\"update\"},{\"args\":[{\"visible\":[true]},{\"title\":\"Top 10 OTUs for Sample 1539\"}],\"label\":\"1539\",\"method\":\"update\"},{\"args\":[{\"visible\":[true]},{\"title\":\"Top 10 OTUs for Sample 1540\"}],\"label\":\"1540\",\"method\":\"update\"},{\"args\":[{\"visible\":[true]},{\"title\":\"Top 10 OTUs for Sample 1541\"}],\"label\":\"1541\",\"method\":\"update\"},{\"args\":[{\"visible\":[true]},{\"title\":\"Top 10 OTUs for Sample 1542\"}],\"label\":\"1542\",\"method\":\"update\"},{\"args\":[{\"visible\":[true]},{\"title\":\"Top 10 OTUs for Sample 1543\"}],\"label\":\"1543\",\"method\":\"update\"},{\"args\":[{\"visible\":[true]},{\"title\":\"Top 10 OTUs for Sample 1544\"}],\"label\":\"1544\",\"method\":\"update\"},{\"args\":[{\"visible\":[true]},{\"title\":\"Top 10 OTUs for Sample 1545\"}],\"label\":\"1545\",\"method\":\"update\"},{\"args\":[{\"visible\":[true]},{\"title\":\"Top 10 OTUs for Sample 1546\"}],\"label\":\"1546\",\"method\":\"update\"},{\"args\":[{\"visible\":[true]},{\"title\":\"Top 10 OTUs for Sample 1547\"}],\"label\":\"1547\",\"method\":\"update\"},{\"args\":[{\"visible\":[true]},{\"title\":\"Top 10 OTUs for Sample 1548\"}],\"label\":\"1548\",\"method\":\"update\"},{\"args\":[{\"visible\":[true]},{\"title\":\"Top 10 OTUs for Sample 1549\"}],\"label\":\"1549\",\"method\":\"update\"},{\"args\":[{\"visible\":[true]},{\"title\":\"Top 10 OTUs for Sample 1550\"}],\"label\":\"1550\",\"method\":\"update\"},{\"args\":[{\"visible\":[true]},{\"title\":\"Top 10 OTUs for Sample 1551\"}],\"label\":\"1551\",\"method\":\"update\"},{\"args\":[{\"visible\":[true]},{\"title\":\"Top 10 OTUs for Sample 1552\"}],\"label\":\"1552\",\"method\":\"update\"},{\"args\":[{\"visible\":[true]},{\"title\":\"Top 10 OTUs for Sample 1553\"}],\"label\":\"1553\",\"method\":\"update\"},{\"args\":[{\"visible\":[true]},{\"title\":\"Top 10 OTUs for Sample 1554\"}],\"label\":\"1554\",\"method\":\"update\"},{\"args\":[{\"visible\":[true]},{\"title\":\"Top 10 OTUs for Sample 1555\"}],\"label\":\"1555\",\"method\":\"update\"},{\"args\":[{\"visible\":[true]},{\"title\":\"Top 10 OTUs for Sample 1556\"}],\"label\":\"1556\",\"method\":\"update\"},{\"args\":[{\"visible\":[true]},{\"title\":\"Top 10 OTUs for Sample 1557\"}],\"label\":\"1557\",\"method\":\"update\"},{\"args\":[{\"visible\":[true]},{\"title\":\"Top 10 OTUs for Sample 1558\"}],\"label\":\"1558\",\"method\":\"update\"},{\"args\":[{\"visible\":[true]},{\"title\":\"Top 10 OTUs for Sample 1561\"}],\"label\":\"1561\",\"method\":\"update\"},{\"args\":[{\"visible\":[true]},{\"title\":\"Top 10 OTUs for Sample 1562\"}],\"label\":\"1562\",\"method\":\"update\"},{\"args\":[{\"visible\":[true]},{\"title\":\"Top 10 OTUs for Sample 1563\"}],\"label\":\"1563\",\"method\":\"update\"},{\"args\":[{\"visible\":[true]},{\"title\":\"Top 10 OTUs for Sample 1564\"}],\"label\":\"1564\",\"method\":\"update\"},{\"args\":[{\"visible\":[true]},{\"title\":\"Top 10 OTUs for Sample 1572\"}],\"label\":\"1572\",\"method\":\"update\"},{\"args\":[{\"visible\":[true]},{\"title\":\"Top 10 OTUs for Sample 1573\"}],\"label\":\"1573\",\"method\":\"update\"},{\"args\":[{\"visible\":[true]},{\"title\":\"Top 10 OTUs for Sample 1574\"}],\"label\":\"1574\",\"method\":\"update\"},{\"args\":[{\"visible\":[true]},{\"title\":\"Top 10 OTUs for Sample 1576\"}],\"label\":\"1576\",\"method\":\"update\"},{\"args\":[{\"visible\":[true]},{\"title\":\"Top 10 OTUs for Sample 1577\"}],\"label\":\"1577\",\"method\":\"update\"},{\"args\":[{\"visible\":[true]},{\"title\":\"Top 10 OTUs for Sample 1581\"}],\"label\":\"1581\",\"method\":\"update\"},{\"args\":[{\"visible\":[true]},{\"title\":\"Top 10 OTUs for Sample 1601\"}],\"label\":\"1601\",\"method\":\"update\"}],\"direction\":\"down\",\"showactive\":true}]},                        {\"responsive\": true}                    ).then(function(){\n",
       "                            \n",
       "var gd = document.getElementById('686d698e-26e3-48af-8bae-f03eb6edfbb2');\n",
       "var x = new MutationObserver(function (mutations, observer) {{\n",
       "        var display = window.getComputedStyle(gd).display;\n",
       "        if (!display || display === 'none') {{\n",
       "            console.log([gd, 'removed!']);\n",
       "            Plotly.purge(gd);\n",
       "            observer.disconnect();\n",
       "        }}\n",
       "}});\n",
       "\n",
       "// Listen for the removal of the full notebook cells\n",
       "var notebookContainer = gd.closest('#notebook-container');\n",
       "if (notebookContainer) {{\n",
       "    x.observe(notebookContainer, {childList: true});\n",
       "}}\n",
       "\n",
       "// Listen for the clearing of the current output cell\n",
       "var outputEl = gd.closest('.output');\n",
       "if (outputEl) {{\n",
       "    x.observe(outputEl, {childList: true});\n",
       "}}\n",
       "\n",
       "                        })                };                });            </script>        </div>"
      ]
     },
     "metadata": {},
     "output_type": "display_data"
    }
   ],
   "source": [
    "# URL to the JSON file\n",
    "url = \"https://static.bc-edx.com/data/dl-1-2/m14/lms/starter/samples.json\"\n",
    "\n",
    "# Load the JSON data\n",
    "with urlopen(url) as response:\n",
    "    data = json.load(response)\n",
    "\n",
    "# Convert to a DataFrame\n",
    "samples_df = pd.DataFrame(data['samples'])\n",
    "\n",
    "# Function to create the bar chart\n",
    "def create_bar_chart(sample_id):\n",
    "    # Get the data for the selected sample\n",
    "    sample_data = samples_df[samples_df['id'] == sample_id].iloc[0]\n",
    "\n",
    "    # Extract the top 10 OTUs\n",
    "    top_10_values = sample_data['sample_values'][:10]\n",
    "    top_10_ids = sample_data['otu_ids'][:10]\n",
    "    top_10_labels = sample_data['otu_labels'][:10]\n",
    "\n",
    "    # Create the bar chart\n",
    "    fig = go.Figure(go.Bar(\n",
    "        x=top_10_values[::-1],\n",
    "        y=[f\"OTU {otu_id}\" for otu_id in top_10_ids[::-1]],\n",
    "        text=top_10_labels[::-1],\n",
    "        orientation='h'\n",
    "    ))\n",
    "\n",
    "    # Update layout\n",
    "    fig.update_layout(\n",
    "        title=f\"Top 10 OTUs for Sample {sample_id}\",\n",
    "        xaxis_title=\"Sample Values\",\n",
    "        yaxis_title=\"OTU IDs\"\n",
    "    )\n",
    "\n",
    "    return fig\n",
    "\n",
    "# Initial plot\n",
    "sample_ids = samples_df['id'].tolist()\n",
    "fig = create_bar_chart(sample_ids[0])\n",
    "\n",
    "# Add dropdown menu\n",
    "fig.update_layout(\n",
    "    updatemenus=[{\n",
    "        'buttons': [\n",
    "            {'label': sample_id, \n",
    "             'method': 'update', \n",
    "             'args': [{'visible': [True]}, {'title': f'Top 10 OTUs for Sample {sample_id}'}]} \n",
    "            for sample_id in sample_ids\n",
    "        ],\n",
    "        'direction': 'down',\n",
    "        'showactive': True\n",
    "    }]\n",
    ")\n",
    "\n",
    "# Show the plot\n",
    "fig.show()\n"
   ]
  },
  {
   "cell_type": "code",
   "execution_count": 6,
   "id": "bd1a3ae6-4e6c-4b70-9f83-126772988bc8",
   "metadata": {},
   "outputs": [
    {
     "data": {
      "application/vnd.plotly.v1+json": {
       "config": {
        "plotlyServerURL": "https://plot.ly"
       },
       "data": [
        {
         "marker": {
          "color": [
           1167,
           2859,
           482,
           2264,
           41,
           1189,
           352,
           189,
           2318,
           1977,
           3450,
           874,
           1959,
           2191,
           1950,
           2077,
           2275,
           944,
           2184,
           2244,
           2024,
           2419,
           2811,
           165,
           2782,
           2247,
           2011,
           2396,
           830,
           2964,
           1795,
           2722,
           307,
           2178,
           2908,
           1193,
           2167,
           1208,
           2039,
           1274,
           2739,
           2737,
           1314,
           1962,
           2186,
           2335,
           2936,
           907,
           833,
           2483,
           2475,
           2491,
           2291,
           159,
           2571,
           2350,
           2342,
           2546,
           725,
           170,
           1505,
           513,
           259,
           1169,
           258,
           1232,
           1497,
           1498,
           1503,
           412,
           2235,
           1960,
           1968,
           121,
           2065,
           340,
           2110,
           2188,
           357,
           342
          ],
          "colorscale": [
           [
            0,
            "#440154"
           ],
           [
            0.1111111111111111,
            "#482878"
           ],
           [
            0.2222222222222222,
            "#3e4989"
           ],
           [
            0.3333333333333333,
            "#31688e"
           ],
           [
            0.4444444444444444,
            "#26828e"
           ],
           [
            0.5555555555555556,
            "#1f9e89"
           ],
           [
            0.6666666666666666,
            "#35b779"
           ],
           [
            0.7777777777777778,
            "#6ece58"
           ],
           [
            0.8888888888888888,
            "#b5de2b"
           ],
           [
            1,
            "#fde725"
           ]
          ],
          "showscale": true,
          "size": [
           163,
           126,
           113,
           78,
           71,
           51,
           50,
           47,
           40,
           40,
           37,
           36,
           30,
           28,
           25,
           23,
           22,
           19,
           19,
           14,
           13,
           13,
           13,
           12,
           12,
           11,
           11,
           11,
           10,
           10,
           10,
           8,
           7,
           7,
           7,
           6,
           5,
           5,
           5,
           4,
           4,
           4,
           3,
           3,
           3,
           3,
           3,
           3,
           3,
           2,
           2,
           2,
           2,
           2,
           2,
           2,
           2,
           2,
           2,
           2,
           2,
           2,
           2,
           2,
           2,
           2,
           2,
           2,
           2,
           2,
           2,
           2,
           2,
           2,
           2,
           2,
           2,
           2,
           2,
           2
          ]
         },
         "mode": "markers",
         "text": [
          "Bacteria;Bacteroidetes;Bacteroidia;Bacteroidales;Porphyromonadaceae;Porphyromonas",
          "Bacteria;Firmicutes;Clostridia;Clostridiales;IncertaeSedisXI;Peptoniphilus",
          "Bacteria",
          "Bacteria;Firmicutes;Clostridia;Clostridiales;IncertaeSedisXI",
          "Bacteria",
          "Bacteria;Bacteroidetes;Bacteroidia;Bacteroidales;Porphyromonadaceae;Porphyromonas",
          "Bacteria",
          "Bacteria",
          "Bacteria;Firmicutes;Clostridia;Clostridiales;IncertaeSedisXI;Anaerococcus",
          "Bacteria;Firmicutes;Clostridia;Clostridiales",
          "Bacteria;Proteobacteria;Epsilonproteobacteria;Campylobacterales;Campylobacteraceae;Campylobacter",
          "Bacteria;Actinobacteria;Actinobacteria;Actinomycetales;Actinomycetaceae;Varibaculum",
          "Bacteria;Firmicutes;Clostridia",
          "Bacteria;Firmicutes;Clostridia;Clostridiales;IncertaeSedisXI",
          "Bacteria;Firmicutes;Clostridia",
          "Bacteria;Firmicutes;Clostridia;Clostridiales",
          "Bacteria;Firmicutes;Clostridia;Clostridiales;IncertaeSedisXI",
          "Bacteria;Actinobacteria;Actinobacteria;Actinomycetales;Corynebacteriaceae;Corynebacterium",
          "Bacteria;Firmicutes;Clostridia;Clostridiales;IncertaeSedisXI",
          "Bacteria;Firmicutes;Clostridia;Clostridiales;IncertaeSedisXI",
          "Bacteria;Firmicutes;Clostridia;Clostridiales",
          "Bacteria;Firmicutes;Clostridia;Clostridiales;IncertaeSedisXI;Anaerococcus",
          "Bacteria;Firmicutes;Clostridia;Clostridiales;IncertaeSedisXI;Peptoniphilus",
          "Bacteria",
          "Bacteria;Firmicutes;Clostridia;Clostridiales;IncertaeSedisXI;Peptoniphilus",
          "Bacteria;Firmicutes;Clostridia;Clostridiales;IncertaeSedisXI",
          "Bacteria;Firmicutes;Clostridia;Clostridiales",
          "Bacteria;Firmicutes;Clostridia;Clostridiales;IncertaeSedisXI;Anaerococcus",
          "Bacteria;Actinobacteria;Actinobacteria;Actinomycetales",
          "Bacteria;Firmicutes;Clostridia;Clostridiales;Veillonellaceae",
          "Bacteria;Firmicutes;Bacilli;Bacillales;Staphylococcaceae;Staphylococcus",
          "Bacteria;Firmicutes;Clostridia;Clostridiales;IncertaeSedisXI;Finegoldia",
          "Bacteria",
          "Bacteria;Firmicutes;Clostridia;Clostridiales",
          "Bacteria;Firmicutes;Clostridia;Clostridiales;Peptococcaceae;Peptococcus",
          "Bacteria;Bacteroidetes;Bacteroidia;Bacteroidales;Porphyromonadaceae;Porphyromonas",
          "Bacteria;Firmicutes;Clostridia;Clostridiales",
          "Bacteria;Bacteroidetes;Bacteroidia;Bacteroidales;Porphyromonadaceae;Porphyromonas",
          "Bacteria;Firmicutes;Clostridia;Clostridiales",
          "Bacteria;Bacteroidetes;Bacteroidia;Bacteroidales;Prevotellaceae",
          "Bacteria;Firmicutes;Clostridia;Clostridiales;IncertaeSedisXI;Gallicola",
          "Bacteria;Firmicutes;Clostridia;Clostridiales;IncertaeSedisXI;Gallicola",
          "Bacteria;Bacteroidetes;Bacteroidia;Bacteroidales;Prevotellaceae;Prevotella",
          "Bacteria;Firmicutes;Clostridia",
          "Bacteria;Firmicutes;Clostridia;Clostridiales;IncertaeSedisXI",
          "Bacteria;Firmicutes;Clostridia;Clostridiales;IncertaeSedisXI;Anaerococcus",
          "Bacteria;Firmicutes;Clostridia;Clostridiales;Ruminococcaceae",
          "Bacteria;Actinobacteria;Actinobacteria;Actinomycetales;Corynebacteriaceae",
          "Bacteria;Actinobacteria;Actinobacteria;Actinomycetales;Actinomycetaceae",
          "Bacteria;Firmicutes;Clostridia;Clostridiales;IncertaeSedisXI;Anaerococcus",
          "Bacteria;Firmicutes;Clostridia;Clostridiales;IncertaeSedisXI;Anaerococcus",
          "Bacteria;Firmicutes;Clostridia;Clostridiales;IncertaeSedisXI;Anaerococcus",
          "Bacteria;Firmicutes;Clostridia;Clostridiales;IncertaeSedisXI",
          "Bacteria",
          "Bacteria;Firmicutes;Clostridia;Clostridiales;IncertaeSedisXI;Anaerococcus",
          "Bacteria;Firmicutes;Clostridia;Clostridiales;IncertaeSedisXI;Anaerococcus",
          "Bacteria;Firmicutes;Clostridia;Clostridiales;IncertaeSedisXI;Anaerococcus",
          "Bacteria;Firmicutes;Clostridia;Clostridiales;IncertaeSedisXI;Anaerococcus",
          "Bacteria;Actinobacteria;Actinobacteria;Actinomycetales",
          "Bacteria",
          "Bacteria;Firmicutes",
          "Bacteria",
          "Bacteria",
          "Bacteria;Bacteroidetes;Bacteroidia;Bacteroidales;Porphyromonadaceae;Porphyromonas",
          "Bacteria",
          "Bacteria;Bacteroidetes;Bacteroidia;Bacteroidales;Porphyromonadaceae;Porphyromonas",
          "Bacteria;Firmicutes",
          "Bacteria;Firmicutes",
          "Bacteria;Firmicutes",
          "Bacteria",
          "Bacteria;Firmicutes;Clostridia;Clostridiales;IncertaeSedisXI",
          "Bacteria;Firmicutes;Clostridia",
          "Bacteria;Firmicutes;Clostridia",
          "Bacteria",
          "Bacteria;Firmicutes;Clostridia;Clostridiales",
          "Bacteria",
          "Bacteria;Firmicutes;Clostridia;Clostridiales",
          "Bacteria;Firmicutes;Clostridia;Clostridiales;IncertaeSedisXI",
          "Bacteria",
          "Bacteria"
         ],
         "type": "scatter",
         "x": [
          1167,
          2859,
          482,
          2264,
          41,
          1189,
          352,
          189,
          2318,
          1977,
          3450,
          874,
          1959,
          2191,
          1950,
          2077,
          2275,
          944,
          2184,
          2244,
          2024,
          2419,
          2811,
          165,
          2782,
          2247,
          2011,
          2396,
          830,
          2964,
          1795,
          2722,
          307,
          2178,
          2908,
          1193,
          2167,
          1208,
          2039,
          1274,
          2739,
          2737,
          1314,
          1962,
          2186,
          2335,
          2936,
          907,
          833,
          2483,
          2475,
          2491,
          2291,
          159,
          2571,
          2350,
          2342,
          2546,
          725,
          170,
          1505,
          513,
          259,
          1169,
          258,
          1232,
          1497,
          1498,
          1503,
          412,
          2235,
          1960,
          1968,
          121,
          2065,
          340,
          2110,
          2188,
          357,
          342
         ],
         "y": [
          163,
          126,
          113,
          78,
          71,
          51,
          50,
          47,
          40,
          40,
          37,
          36,
          30,
          28,
          25,
          23,
          22,
          19,
          19,
          14,
          13,
          13,
          13,
          12,
          12,
          11,
          11,
          11,
          10,
          10,
          10,
          8,
          7,
          7,
          7,
          6,
          5,
          5,
          5,
          4,
          4,
          4,
          3,
          3,
          3,
          3,
          3,
          3,
          3,
          2,
          2,
          2,
          2,
          2,
          2,
          2,
          2,
          2,
          2,
          2,
          2,
          2,
          2,
          2,
          2,
          2,
          2,
          2,
          2,
          2,
          2,
          2,
          2,
          2,
          2,
          2,
          2,
          2,
          2,
          2
         ]
        }
       ],
       "layout": {
        "autosize": true,
        "hovermode": "closest",
        "template": {
         "data": {
          "bar": [
           {
            "error_x": {
             "color": "#2a3f5f"
            },
            "error_y": {
             "color": "#2a3f5f"
            },
            "marker": {
             "line": {
              "color": "#E5ECF6",
              "width": 0.5
             },
             "pattern": {
              "fillmode": "overlay",
              "size": 10,
              "solidity": 0.2
             }
            },
            "type": "bar"
           }
          ],
          "barpolar": [
           {
            "marker": {
             "line": {
              "color": "#E5ECF6",
              "width": 0.5
             },
             "pattern": {
              "fillmode": "overlay",
              "size": 10,
              "solidity": 0.2
             }
            },
            "type": "barpolar"
           }
          ],
          "carpet": [
           {
            "aaxis": {
             "endlinecolor": "#2a3f5f",
             "gridcolor": "white",
             "linecolor": "white",
             "minorgridcolor": "white",
             "startlinecolor": "#2a3f5f"
            },
            "baxis": {
             "endlinecolor": "#2a3f5f",
             "gridcolor": "white",
             "linecolor": "white",
             "minorgridcolor": "white",
             "startlinecolor": "#2a3f5f"
            },
            "type": "carpet"
           }
          ],
          "choropleth": [
           {
            "colorbar": {
             "outlinewidth": 0,
             "ticks": ""
            },
            "type": "choropleth"
           }
          ],
          "contour": [
           {
            "colorbar": {
             "outlinewidth": 0,
             "ticks": ""
            },
            "colorscale": [
             [
              0,
              "#0d0887"
             ],
             [
              0.1111111111111111,
              "#46039f"
             ],
             [
              0.2222222222222222,
              "#7201a8"
             ],
             [
              0.3333333333333333,
              "#9c179e"
             ],
             [
              0.4444444444444444,
              "#bd3786"
             ],
             [
              0.5555555555555556,
              "#d8576b"
             ],
             [
              0.6666666666666666,
              "#ed7953"
             ],
             [
              0.7777777777777778,
              "#fb9f3a"
             ],
             [
              0.8888888888888888,
              "#fdca26"
             ],
             [
              1,
              "#f0f921"
             ]
            ],
            "type": "contour"
           }
          ],
          "contourcarpet": [
           {
            "colorbar": {
             "outlinewidth": 0,
             "ticks": ""
            },
            "type": "contourcarpet"
           }
          ],
          "heatmap": [
           {
            "colorbar": {
             "outlinewidth": 0,
             "ticks": ""
            },
            "colorscale": [
             [
              0,
              "#0d0887"
             ],
             [
              0.1111111111111111,
              "#46039f"
             ],
             [
              0.2222222222222222,
              "#7201a8"
             ],
             [
              0.3333333333333333,
              "#9c179e"
             ],
             [
              0.4444444444444444,
              "#bd3786"
             ],
             [
              0.5555555555555556,
              "#d8576b"
             ],
             [
              0.6666666666666666,
              "#ed7953"
             ],
             [
              0.7777777777777778,
              "#fb9f3a"
             ],
             [
              0.8888888888888888,
              "#fdca26"
             ],
             [
              1,
              "#f0f921"
             ]
            ],
            "type": "heatmap"
           }
          ],
          "heatmapgl": [
           {
            "colorbar": {
             "outlinewidth": 0,
             "ticks": ""
            },
            "colorscale": [
             [
              0,
              "#0d0887"
             ],
             [
              0.1111111111111111,
              "#46039f"
             ],
             [
              0.2222222222222222,
              "#7201a8"
             ],
             [
              0.3333333333333333,
              "#9c179e"
             ],
             [
              0.4444444444444444,
              "#bd3786"
             ],
             [
              0.5555555555555556,
              "#d8576b"
             ],
             [
              0.6666666666666666,
              "#ed7953"
             ],
             [
              0.7777777777777778,
              "#fb9f3a"
             ],
             [
              0.8888888888888888,
              "#fdca26"
             ],
             [
              1,
              "#f0f921"
             ]
            ],
            "type": "heatmapgl"
           }
          ],
          "histogram": [
           {
            "marker": {
             "pattern": {
              "fillmode": "overlay",
              "size": 10,
              "solidity": 0.2
             }
            },
            "type": "histogram"
           }
          ],
          "histogram2d": [
           {
            "colorbar": {
             "outlinewidth": 0,
             "ticks": ""
            },
            "colorscale": [
             [
              0,
              "#0d0887"
             ],
             [
              0.1111111111111111,
              "#46039f"
             ],
             [
              0.2222222222222222,
              "#7201a8"
             ],
             [
              0.3333333333333333,
              "#9c179e"
             ],
             [
              0.4444444444444444,
              "#bd3786"
             ],
             [
              0.5555555555555556,
              "#d8576b"
             ],
             [
              0.6666666666666666,
              "#ed7953"
             ],
             [
              0.7777777777777778,
              "#fb9f3a"
             ],
             [
              0.8888888888888888,
              "#fdca26"
             ],
             [
              1,
              "#f0f921"
             ]
            ],
            "type": "histogram2d"
           }
          ],
          "histogram2dcontour": [
           {
            "colorbar": {
             "outlinewidth": 0,
             "ticks": ""
            },
            "colorscale": [
             [
              0,
              "#0d0887"
             ],
             [
              0.1111111111111111,
              "#46039f"
             ],
             [
              0.2222222222222222,
              "#7201a8"
             ],
             [
              0.3333333333333333,
              "#9c179e"
             ],
             [
              0.4444444444444444,
              "#bd3786"
             ],
             [
              0.5555555555555556,
              "#d8576b"
             ],
             [
              0.6666666666666666,
              "#ed7953"
             ],
             [
              0.7777777777777778,
              "#fb9f3a"
             ],
             [
              0.8888888888888888,
              "#fdca26"
             ],
             [
              1,
              "#f0f921"
             ]
            ],
            "type": "histogram2dcontour"
           }
          ],
          "mesh3d": [
           {
            "colorbar": {
             "outlinewidth": 0,
             "ticks": ""
            },
            "type": "mesh3d"
           }
          ],
          "parcoords": [
           {
            "line": {
             "colorbar": {
              "outlinewidth": 0,
              "ticks": ""
             }
            },
            "type": "parcoords"
           }
          ],
          "pie": [
           {
            "automargin": true,
            "type": "pie"
           }
          ],
          "scatter": [
           {
            "fillpattern": {
             "fillmode": "overlay",
             "size": 10,
             "solidity": 0.2
            },
            "type": "scatter"
           }
          ],
          "scatter3d": [
           {
            "line": {
             "colorbar": {
              "outlinewidth": 0,
              "ticks": ""
             }
            },
            "marker": {
             "colorbar": {
              "outlinewidth": 0,
              "ticks": ""
             }
            },
            "type": "scatter3d"
           }
          ],
          "scattercarpet": [
           {
            "marker": {
             "colorbar": {
              "outlinewidth": 0,
              "ticks": ""
             }
            },
            "type": "scattercarpet"
           }
          ],
          "scattergeo": [
           {
            "marker": {
             "colorbar": {
              "outlinewidth": 0,
              "ticks": ""
             }
            },
            "type": "scattergeo"
           }
          ],
          "scattergl": [
           {
            "marker": {
             "colorbar": {
              "outlinewidth": 0,
              "ticks": ""
             }
            },
            "type": "scattergl"
           }
          ],
          "scattermapbox": [
           {
            "marker": {
             "colorbar": {
              "outlinewidth": 0,
              "ticks": ""
             }
            },
            "type": "scattermapbox"
           }
          ],
          "scatterpolar": [
           {
            "marker": {
             "colorbar": {
              "outlinewidth": 0,
              "ticks": ""
             }
            },
            "type": "scatterpolar"
           }
          ],
          "scatterpolargl": [
           {
            "marker": {
             "colorbar": {
              "outlinewidth": 0,
              "ticks": ""
             }
            },
            "type": "scatterpolargl"
           }
          ],
          "scatterternary": [
           {
            "marker": {
             "colorbar": {
              "outlinewidth": 0,
              "ticks": ""
             }
            },
            "type": "scatterternary"
           }
          ],
          "surface": [
           {
            "colorbar": {
             "outlinewidth": 0,
             "ticks": ""
            },
            "colorscale": [
             [
              0,
              "#0d0887"
             ],
             [
              0.1111111111111111,
              "#46039f"
             ],
             [
              0.2222222222222222,
              "#7201a8"
             ],
             [
              0.3333333333333333,
              "#9c179e"
             ],
             [
              0.4444444444444444,
              "#bd3786"
             ],
             [
              0.5555555555555556,
              "#d8576b"
             ],
             [
              0.6666666666666666,
              "#ed7953"
             ],
             [
              0.7777777777777778,
              "#fb9f3a"
             ],
             [
              0.8888888888888888,
              "#fdca26"
             ],
             [
              1,
              "#f0f921"
             ]
            ],
            "type": "surface"
           }
          ],
          "table": [
           {
            "cells": {
             "fill": {
              "color": "#EBF0F8"
             },
             "line": {
              "color": "white"
             }
            },
            "header": {
             "fill": {
              "color": "#C8D4E3"
             },
             "line": {
              "color": "white"
             }
            },
            "type": "table"
           }
          ]
         },
         "layout": {
          "annotationdefaults": {
           "arrowcolor": "#2a3f5f",
           "arrowhead": 0,
           "arrowwidth": 1
          },
          "autotypenumbers": "strict",
          "coloraxis": {
           "colorbar": {
            "outlinewidth": 0,
            "ticks": ""
           }
          },
          "colorscale": {
           "diverging": [
            [
             0,
             "#8e0152"
            ],
            [
             0.1,
             "#c51b7d"
            ],
            [
             0.2,
             "#de77ae"
            ],
            [
             0.3,
             "#f1b6da"
            ],
            [
             0.4,
             "#fde0ef"
            ],
            [
             0.5,
             "#f7f7f7"
            ],
            [
             0.6,
             "#e6f5d0"
            ],
            [
             0.7,
             "#b8e186"
            ],
            [
             0.8,
             "#7fbc41"
            ],
            [
             0.9,
             "#4d9221"
            ],
            [
             1,
             "#276419"
            ]
           ],
           "sequential": [
            [
             0,
             "#0d0887"
            ],
            [
             0.1111111111111111,
             "#46039f"
            ],
            [
             0.2222222222222222,
             "#7201a8"
            ],
            [
             0.3333333333333333,
             "#9c179e"
            ],
            [
             0.4444444444444444,
             "#bd3786"
            ],
            [
             0.5555555555555556,
             "#d8576b"
            ],
            [
             0.6666666666666666,
             "#ed7953"
            ],
            [
             0.7777777777777778,
             "#fb9f3a"
            ],
            [
             0.8888888888888888,
             "#fdca26"
            ],
            [
             1,
             "#f0f921"
            ]
           ],
           "sequentialminus": [
            [
             0,
             "#0d0887"
            ],
            [
             0.1111111111111111,
             "#46039f"
            ],
            [
             0.2222222222222222,
             "#7201a8"
            ],
            [
             0.3333333333333333,
             "#9c179e"
            ],
            [
             0.4444444444444444,
             "#bd3786"
            ],
            [
             0.5555555555555556,
             "#d8576b"
            ],
            [
             0.6666666666666666,
             "#ed7953"
            ],
            [
             0.7777777777777778,
             "#fb9f3a"
            ],
            [
             0.8888888888888888,
             "#fdca26"
            ],
            [
             1,
             "#f0f921"
            ]
           ]
          },
          "colorway": [
           "#636efa",
           "#EF553B",
           "#00cc96",
           "#ab63fa",
           "#FFA15A",
           "#19d3f3",
           "#FF6692",
           "#B6E880",
           "#FF97FF",
           "#FECB52"
          ],
          "font": {
           "color": "#2a3f5f"
          },
          "geo": {
           "bgcolor": "white",
           "lakecolor": "white",
           "landcolor": "#E5ECF6",
           "showlakes": true,
           "showland": true,
           "subunitcolor": "white"
          },
          "hoverlabel": {
           "align": "left"
          },
          "hovermode": "closest",
          "mapbox": {
           "style": "light"
          },
          "paper_bgcolor": "white",
          "plot_bgcolor": "#E5ECF6",
          "polar": {
           "angularaxis": {
            "gridcolor": "white",
            "linecolor": "white",
            "ticks": ""
           },
           "bgcolor": "#E5ECF6",
           "radialaxis": {
            "gridcolor": "white",
            "linecolor": "white",
            "ticks": ""
           }
          },
          "scene": {
           "xaxis": {
            "backgroundcolor": "#E5ECF6",
            "gridcolor": "white",
            "gridwidth": 2,
            "linecolor": "white",
            "showbackground": true,
            "ticks": "",
            "zerolinecolor": "white"
           },
           "yaxis": {
            "backgroundcolor": "#E5ECF6",
            "gridcolor": "white",
            "gridwidth": 2,
            "linecolor": "white",
            "showbackground": true,
            "ticks": "",
            "zerolinecolor": "white"
           },
           "zaxis": {
            "backgroundcolor": "#E5ECF6",
            "gridcolor": "white",
            "gridwidth": 2,
            "linecolor": "white",
            "showbackground": true,
            "ticks": "",
            "zerolinecolor": "white"
           }
          },
          "shapedefaults": {
           "line": {
            "color": "#2a3f5f"
           }
          },
          "ternary": {
           "aaxis": {
            "gridcolor": "white",
            "linecolor": "white",
            "ticks": ""
           },
           "baxis": {
            "gridcolor": "white",
            "linecolor": "white",
            "ticks": ""
           },
           "bgcolor": "#E5ECF6",
           "caxis": {
            "gridcolor": "white",
            "linecolor": "white",
            "ticks": ""
           }
          },
          "title": {
           "x": 0.05
          },
          "xaxis": {
           "automargin": true,
           "gridcolor": "white",
           "linecolor": "white",
           "ticks": "",
           "title": {
            "standoff": 15
           },
           "zerolinecolor": "white",
           "zerolinewidth": 2
          },
          "yaxis": {
           "automargin": true,
           "gridcolor": "white",
           "linecolor": "white",
           "ticks": "",
           "title": {
            "standoff": 15
           },
           "zerolinecolor": "white",
           "zerolinewidth": 2
          }
         }
        },
        "title": {
         "text": "Bubble Chart for Sample 940"
        },
        "xaxis": {
         "autorange": true,
         "range": [
          -362.5919506462985,
          3759.00878051965
         ],
         "title": {
          "text": "OTU ID"
         },
         "type": "linear"
        },
        "yaxis": {
         "autorange": true,
         "range": [
          -111.05309734513273,
          602.5752212389381
         ],
         "title": {
          "text": "Sample Value"
         },
         "type": "linear"
        }
       }
      },
      "image/png": "[encoded data removed]",
      "text/html": [
       "<div>                            <div id=\"51fd3587-a1a3-4c26-8aff-5739ba230cdd\" class=\"plotly-graph-div\" style=\"height:525px; width:100%;\"></div>            <script type=\"text/javascript\">                require([\"plotly\"], function(Plotly) {                    window.PLOTLYENV=window.PLOTLYENV || {};                                    if (document.getElementById(\"51fd3587-a1a3-4c26-8aff-5739ba230cdd\")) {                    Plotly.newPlot(                        \"51fd3587-a1a3-4c26-8aff-5739ba230cdd\",                        [{\"marker\":{\"color\":[1167,2859,482,2264,41,1189,352,189,2318,1977,3450,874,1959,2191,1950,2077,2275,944,2184,2244,2024,2419,2811,165,2782,2247,2011,2396,830,2964,1795,2722,307,2178,2908,1193,2167,1208,2039,1274,2739,2737,1314,1962,2186,2335,2936,907,833,2483,2475,2491,2291,159,2571,2350,2342,2546,725,170,1505,513,259,1169,258,1232,1497,1498,1503,412,2235,1960,1968,121,2065,340,2110,2188,357,342],\"colorscale\":[[0.0,\"#440154\"],[0.1111111111111111,\"#482878\"],[0.2222222222222222,\"#3e4989\"],[0.3333333333333333,\"#31688e\"],[0.4444444444444444,\"#26828e\"],[0.5555555555555556,\"#1f9e89\"],[0.6666666666666666,\"#35b779\"],[0.7777777777777778,\"#6ece58\"],[0.8888888888888888,\"#b5de2b\"],[1.0,\"#fde725\"]],\"showscale\":true,\"size\":[163,126,113,78,71,51,50,47,40,40,37,36,30,28,25,23,22,19,19,14,13,13,13,12,12,11,11,11,10,10,10,8,7,7,7,6,5,5,5,4,4,4,3,3,3,3,3,3,3,2,2,2,2,2,2,2,2,2,2,2,2,2,2,2,2,2,2,2,2,2,2,2,2,2,2,2,2,2,2,2]},\"mode\":\"markers\",\"text\":[\"Bacteria;Bacteroidetes;Bacteroidia;Bacteroidales;Porphyromonadaceae;Porphyromonas\",\"Bacteria;Firmicutes;Clostridia;Clostridiales;IncertaeSedisXI;Peptoniphilus\",\"Bacteria\",\"Bacteria;Firmicutes;Clostridia;Clostridiales;IncertaeSedisXI\",\"Bacteria\",\"Bacteria;Bacteroidetes;Bacteroidia;Bacteroidales;Porphyromonadaceae;Porphyromonas\",\"Bacteria\",\"Bacteria\",\"Bacteria;Firmicutes;Clostridia;Clostridiales;IncertaeSedisXI;Anaerococcus\",\"Bacteria;Firmicutes;Clostridia;Clostridiales\",\"Bacteria;Proteobacteria;Epsilonproteobacteria;Campylobacterales;Campylobacteraceae;Campylobacter\",\"Bacteria;Actinobacteria;Actinobacteria;Actinomycetales;Actinomycetaceae;Varibaculum\",\"Bacteria;Firmicutes;Clostridia\",\"Bacteria;Firmicutes;Clostridia;Clostridiales;IncertaeSedisXI\",\"Bacteria;Firmicutes;Clostridia\",\"Bacteria;Firmicutes;Clostridia;Clostridiales\",\"Bacteria;Firmicutes;Clostridia;Clostridiales;IncertaeSedisXI\",\"Bacteria;Actinobacteria;Actinobacteria;Actinomycetales;Corynebacteriaceae;Corynebacterium\",\"Bacteria;Firmicutes;Clostridia;Clostridiales;IncertaeSedisXI\",\"Bacteria;Firmicutes;Clostridia;Clostridiales;IncertaeSedisXI\",\"Bacteria;Firmicutes;Clostridia;Clostridiales\",\"Bacteria;Firmicutes;Clostridia;Clostridiales;IncertaeSedisXI;Anaerococcus\",\"Bacteria;Firmicutes;Clostridia;Clostridiales;IncertaeSedisXI;Peptoniphilus\",\"Bacteria\",\"Bacteria;Firmicutes;Clostridia;Clostridiales;IncertaeSedisXI;Peptoniphilus\",\"Bacteria;Firmicutes;Clostridia;Clostridiales;IncertaeSedisXI\",\"Bacteria;Firmicutes;Clostridia;Clostridiales\",\"Bacteria;Firmicutes;Clostridia;Clostridiales;IncertaeSedisXI;Anaerococcus\",\"Bacteria;Actinobacteria;Actinobacteria;Actinomycetales\",\"Bacteria;Firmicutes;Clostridia;Clostridiales;Veillonellaceae\",\"Bacteria;Firmicutes;Bacilli;Bacillales;Staphylococcaceae;Staphylococcus\",\"Bacteria;Firmicutes;Clostridia;Clostridiales;IncertaeSedisXI;Finegoldia\",\"Bacteria\",\"Bacteria;Firmicutes;Clostridia;Clostridiales\",\"Bacteria;Firmicutes;Clostridia;Clostridiales;Peptococcaceae;Peptococcus\",\"Bacteria;Bacteroidetes;Bacteroidia;Bacteroidales;Porphyromonadaceae;Porphyromonas\",\"Bacteria;Firmicutes;Clostridia;Clostridiales\",\"Bacteria;Bacteroidetes;Bacteroidia;Bacteroidales;Porphyromonadaceae;Porphyromonas\",\"Bacteria;Firmicutes;Clostridia;Clostridiales\",\"Bacteria;Bacteroidetes;Bacteroidia;Bacteroidales;Prevotellaceae\",\"Bacteria;Firmicutes;Clostridia;Clostridiales;IncertaeSedisXI;Gallicola\",\"Bacteria;Firmicutes;Clostridia;Clostridiales;IncertaeSedisXI;Gallicola\",\"Bacteria;Bacteroidetes;Bacteroidia;Bacteroidales;Prevotellaceae;Prevotella\",\"Bacteria;Firmicutes;Clostridia\",\"Bacteria;Firmicutes;Clostridia;Clostridiales;IncertaeSedisXI\",\"Bacteria;Firmicutes;Clostridia;Clostridiales;IncertaeSedisXI;Anaerococcus\",\"Bacteria;Firmicutes;Clostridia;Clostridiales;Ruminococcaceae\",\"Bacteria;Actinobacteria;Actinobacteria;Actinomycetales;Corynebacteriaceae\",\"Bacteria;Actinobacteria;Actinobacteria;Actinomycetales;Actinomycetaceae\",\"Bacteria;Firmicutes;Clostridia;Clostridiales;IncertaeSedisXI;Anaerococcus\",\"Bacteria;Firmicutes;Clostridia;Clostridiales;IncertaeSedisXI;Anaerococcus\",\"Bacteria;Firmicutes;Clostridia;Clostridiales;IncertaeSedisXI;Anaerococcus\",\"Bacteria;Firmicutes;Clostridia;Clostridiales;IncertaeSedisXI\",\"Bacteria\",\"Bacteria;Firmicutes;Clostridia;Clostridiales;IncertaeSedisXI;Anaerococcus\",\"Bacteria;Firmicutes;Clostridia;Clostridiales;IncertaeSedisXI;Anaerococcus\",\"Bacteria;Firmicutes;Clostridia;Clostridiales;IncertaeSedisXI;Anaerococcus\",\"Bacteria;Firmicutes;Clostridia;Clostridiales;IncertaeSedisXI;Anaerococcus\",\"Bacteria;Actinobacteria;Actinobacteria;Actinomycetales\",\"Bacteria\",\"Bacteria;Firmicutes\",\"Bacteria\",\"Bacteria\",\"Bacteria;Bacteroidetes;Bacteroidia;Bacteroidales;Porphyromonadaceae;Porphyromonas\",\"Bacteria\",\"Bacteria;Bacteroidetes;Bacteroidia;Bacteroidales;Porphyromonadaceae;Porphyromonas\",\"Bacteria;Firmicutes\",\"Bacteria;Firmicutes\",\"Bacteria;Firmicutes\",\"Bacteria\",\"Bacteria;Firmicutes;Clostridia;Clostridiales;IncertaeSedisXI\",\"Bacteria;Firmicutes;Clostridia\",\"Bacteria;Firmicutes;Clostridia\",\"Bacteria\",\"Bacteria;Firmicutes;Clostridia;Clostridiales\",\"Bacteria\",\"Bacteria;Firmicutes;Clostridia;Clostridiales\",\"Bacteria;Firmicutes;Clostridia;Clostridiales;IncertaeSedisXI\",\"Bacteria\",\"Bacteria\"],\"x\":[1167,2859,482,2264,41,1189,352,189,2318,1977,3450,874,1959,2191,1950,2077,2275,944,2184,2244,2024,2419,2811,165,2782,2247,2011,2396,830,2964,1795,2722,307,2178,2908,1193,2167,1208,2039,1274,2739,2737,1314,1962,2186,2335,2936,907,833,2483,2475,2491,2291,159,2571,2350,2342,2546,725,170,1505,513,259,1169,258,1232,1497,1498,1503,412,2235,1960,1968,121,2065,340,2110,2188,357,342],\"y\":[163,126,113,78,71,51,50,47,40,40,37,36,30,28,25,23,22,19,19,14,13,13,13,12,12,11,11,11,10,10,10,8,7,7,7,6,5,5,5,4,4,4,3,3,3,3,3,3,3,2,2,2,2,2,2,2,2,2,2,2,2,2,2,2,2,2,2,2,2,2,2,2,2,2,2,2,2,2,2,2],\"type\":\"scatter\"}],                        {\"template\":{\"data\":{\"histogram2dcontour\":[{\"type\":\"histogram2dcontour\",\"colorbar\":{\"outlinewidth\":0,\"ticks\":\"\"},\"colorscale\":[[0.0,\"#0d0887\"],[0.1111111111111111,\"#46039f\"],[0.2222222222222222,\"#7201a8\"],[0.3333333333333333,\"#9c179e\"],[0.4444444444444444,\"#bd3786\"],[0.5555555555555556,\"#d8576b\"],[0.6666666666666666,\"#ed7953\"],[0.7777777777777778,\"#fb9f3a\"],[0.8888888888888888,\"#fdca26\"],[1.0,\"#f0f921\"]]}],\"choropleth\":[{\"type\":\"choropleth\",\"colorbar\":{\"outlinewidth\":0,\"ticks\":\"\"}}],\"histogram2d\":[{\"type\":\"histogram2d\",\"colorbar\":{\"outlinewidth\":0,\"ticks\":\"\"},\"colorscale\":[[0.0,\"#0d0887\"],[0.1111111111111111,\"#46039f\"],[0.2222222222222222,\"#7201a8\"],[0.3333333333333333,\"#9c179e\"],[0.4444444444444444,\"#bd3786\"],[0.5555555555555556,\"#d8576b\"],[0.6666666666666666,\"#ed7953\"],[0.7777777777777778,\"#fb9f3a\"],[0.8888888888888888,\"#fdca26\"],[1.0,\"#f0f921\"]]}],\"heatmap\":[{\"type\":\"heatmap\",\"colorbar\":{\"outlinewidth\":0,\"ticks\":\"\"},\"colorscale\":[[0.0,\"#0d0887\"],[0.1111111111111111,\"#46039f\"],[0.2222222222222222,\"#7201a8\"],[0.3333333333333333,\"#9c179e\"],[0.4444444444444444,\"#bd3786\"],[0.5555555555555556,\"#d8576b\"],[0.6666666666666666,\"#ed7953\"],[0.7777777777777778,\"#fb9f3a\"],[0.8888888888888888,\"#fdca26\"],[1.0,\"#f0f921\"]]}],\"heatmapgl\":[{\"type\":\"heatmapgl\",\"colorbar\":{\"outlinewidth\":0,\"ticks\":\"\"},\"colorscale\":[[0.0,\"#0d0887\"],[0.1111111111111111,\"#46039f\"],[0.2222222222222222,\"#7201a8\"],[0.3333333333333333,\"#9c179e\"],[0.4444444444444444,\"#bd3786\"],[0.5555555555555556,\"#d8576b\"],[0.6666666666666666,\"#ed7953\"],[0.7777777777777778,\"#fb9f3a\"],[0.8888888888888888,\"#fdca26\"],[1.0,\"#f0f921\"]]}],\"contourcarpet\":[{\"type\":\"contourcarpet\",\"colorbar\":{\"outlinewidth\":0,\"ticks\":\"\"}}],\"contour\":[{\"type\":\"contour\",\"colorbar\":{\"outlinewidth\":0,\"ticks\":\"\"},\"colorscale\":[[0.0,\"#0d0887\"],[0.1111111111111111,\"#46039f\"],[0.2222222222222222,\"#7201a8\"],[0.3333333333333333,\"#9c179e\"],[0.4444444444444444,\"#bd3786\"],[0.5555555555555556,\"#d8576b\"],[0.6666666666666666,\"#ed7953\"],[0.7777777777777778,\"#fb9f3a\"],[0.8888888888888888,\"#fdca26\"],[1.0,\"#f0f921\"]]}],\"surface\":[{\"type\":\"surface\",\"colorbar\":{\"outlinewidth\":0,\"ticks\":\"\"},\"colorscale\":[[0.0,\"#0d0887\"],[0.1111111111111111,\"#46039f\"],[0.2222222222222222,\"#7201a8\"],[0.3333333333333333,\"#9c179e\"],[0.4444444444444444,\"#bd3786\"],[0.5555555555555556,\"#d8576b\"],[0.6666666666666666,\"#ed7953\"],[0.7777777777777778,\"#fb9f3a\"],[0.8888888888888888,\"#fdca26\"],[1.0,\"#f0f921\"]]}],\"mesh3d\":[{\"type\":\"mesh3d\",\"colorbar\":{\"outlinewidth\":0,\"ticks\":\"\"}}],\"scatter\":[{\"fillpattern\":{\"fillmode\":\"overlay\",\"size\":10,\"solidity\":0.2},\"type\":\"scatter\"}],\"parcoords\":[{\"type\":\"parcoords\",\"line\":{\"colorbar\":{\"outlinewidth\":0,\"ticks\":\"\"}}}],\"scatterpolargl\":[{\"type\":\"scatterpolargl\",\"marker\":{\"colorbar\":{\"outlinewidth\":0,\"ticks\":\"\"}}}],\"bar\":[{\"error_x\":{\"color\":\"#2a3f5f\"},\"error_y\":{\"color\":\"#2a3f5f\"},\"marker\":{\"line\":{\"color\":\"#E5ECF6\",\"width\":0.5},\"pattern\":{\"fillmode\":\"overlay\",\"size\":10,\"solidity\":0.2}},\"type\":\"bar\"}],\"scattergeo\":[{\"type\":\"scattergeo\",\"marker\":{\"colorbar\":{\"outlinewidth\":0,\"ticks\":\"\"}}}],\"scatterpolar\":[{\"type\":\"scatterpolar\",\"marker\":{\"colorbar\":{\"outlinewidth\":0,\"ticks\":\"\"}}}],\"histogram\":[{\"marker\":{\"pattern\":{\"fillmode\":\"overlay\",\"size\":10,\"solidity\":0.2}},\"type\":\"histogram\"}],\"scattergl\":[{\"type\":\"scattergl\",\"marker\":{\"colorbar\":{\"outlinewidth\":0,\"ticks\":\"\"}}}],\"scatter3d\":[{\"type\":\"scatter3d\",\"line\":{\"colorbar\":{\"outlinewidth\":0,\"ticks\":\"\"}},\"marker\":{\"colorbar\":{\"outlinewidth\":0,\"ticks\":\"\"}}}],\"scattermapbox\":[{\"type\":\"scattermapbox\",\"marker\":{\"colorbar\":{\"outlinewidth\":0,\"ticks\":\"\"}}}],\"scatterternary\":[{\"type\":\"scatterternary\",\"marker\":{\"colorbar\":{\"outlinewidth\":0,\"ticks\":\"\"}}}],\"scattercarpet\":[{\"type\":\"scattercarpet\",\"marker\":{\"colorbar\":{\"outlinewidth\":0,\"ticks\":\"\"}}}],\"carpet\":[{\"aaxis\":{\"endlinecolor\":\"#2a3f5f\",\"gridcolor\":\"white\",\"linecolor\":\"white\",\"minorgridcolor\":\"white\",\"startlinecolor\":\"#2a3f5f\"},\"baxis\":{\"endlinecolor\":\"#2a3f5f\",\"gridcolor\":\"white\",\"linecolor\":\"white\",\"minorgridcolor\":\"white\",\"startlinecolor\":\"#2a3f5f\"},\"type\":\"carpet\"}],\"table\":[{\"cells\":{\"fill\":{\"color\":\"#EBF0F8\"},\"line\":{\"color\":\"white\"}},\"header\":{\"fill\":{\"color\":\"#C8D4E3\"},\"line\":{\"color\":\"white\"}},\"type\":\"table\"}],\"barpolar\":[{\"marker\":{\"line\":{\"color\":\"#E5ECF6\",\"width\":0.5},\"pattern\":{\"fillmode\":\"overlay\",\"size\":10,\"solidity\":0.2}},\"type\":\"barpolar\"}],\"pie\":[{\"automargin\":true,\"type\":\"pie\"}]},\"layout\":{\"autotypenumbers\":\"strict\",\"colorway\":[\"#636efa\",\"#EF553B\",\"#00cc96\",\"#ab63fa\",\"#FFA15A\",\"#19d3f3\",\"#FF6692\",\"#B6E880\",\"#FF97FF\",\"#FECB52\"],\"font\":{\"color\":\"#2a3f5f\"},\"hovermode\":\"closest\",\"hoverlabel\":{\"align\":\"left\"},\"paper_bgcolor\":\"white\",\"plot_bgcolor\":\"#E5ECF6\",\"polar\":{\"bgcolor\":\"#E5ECF6\",\"angularaxis\":{\"gridcolor\":\"white\",\"linecolor\":\"white\",\"ticks\":\"\"},\"radialaxis\":{\"gridcolor\":\"white\",\"linecolor\":\"white\",\"ticks\":\"\"}},\"ternary\":{\"bgcolor\":\"#E5ECF6\",\"aaxis\":{\"gridcolor\":\"white\",\"linecolor\":\"white\",\"ticks\":\"\"},\"baxis\":{\"gridcolor\":\"white\",\"linecolor\":\"white\",\"ticks\":\"\"},\"caxis\":{\"gridcolor\":\"white\",\"linecolor\":\"white\",\"ticks\":\"\"}},\"coloraxis\":{\"colorbar\":{\"outlinewidth\":0,\"ticks\":\"\"}},\"colorscale\":{\"sequential\":[[0.0,\"#0d0887\"],[0.1111111111111111,\"#46039f\"],[0.2222222222222222,\"#7201a8\"],[0.3333333333333333,\"#9c179e\"],[0.4444444444444444,\"#bd3786\"],[0.5555555555555556,\"#d8576b\"],[0.6666666666666666,\"#ed7953\"],[0.7777777777777778,\"#fb9f3a\"],[0.8888888888888888,\"#fdca26\"],[1.0,\"#f0f921\"]],\"sequentialminus\":[[0.0,\"#0d0887\"],[0.1111111111111111,\"#46039f\"],[0.2222222222222222,\"#7201a8\"],[0.3333333333333333,\"#9c179e\"],[0.4444444444444444,\"#bd3786\"],[0.5555555555555556,\"#d8576b\"],[0.6666666666666666,\"#ed7953\"],[0.7777777777777778,\"#fb9f3a\"],[0.8888888888888888,\"#fdca26\"],[1.0,\"#f0f921\"]],\"diverging\":[[0,\"#8e0152\"],[0.1,\"#c51b7d\"],[0.2,\"#de77ae\"],[0.3,\"#f1b6da\"],[0.4,\"#fde0ef\"],[0.5,\"#f7f7f7\"],[0.6,\"#e6f5d0\"],[0.7,\"#b8e186\"],[0.8,\"#7fbc41\"],[0.9,\"#4d9221\"],[1,\"#276419\"]]},\"xaxis\":{\"gridcolor\":\"white\",\"linecolor\":\"white\",\"ticks\":\"\",\"title\":{\"standoff\":15},\"zerolinecolor\":\"white\",\"automargin\":true,\"zerolinewidth\":2},\"yaxis\":{\"gridcolor\":\"white\",\"linecolor\":\"white\",\"ticks\":\"\",\"title\":{\"standoff\":15},\"zerolinecolor\":\"white\",\"automargin\":true,\"zerolinewidth\":2},\"scene\":{\"xaxis\":{\"backgroundcolor\":\"#E5ECF6\",\"gridcolor\":\"white\",\"linecolor\":\"white\",\"showbackground\":true,\"ticks\":\"\",\"zerolinecolor\":\"white\",\"gridwidth\":2},\"yaxis\":{\"backgroundcolor\":\"#E5ECF6\",\"gridcolor\":\"white\",\"linecolor\":\"white\",\"showbackground\":true,\"ticks\":\"\",\"zerolinecolor\":\"white\",\"gridwidth\":2},\"zaxis\":{\"backgroundcolor\":\"#E5ECF6\",\"gridcolor\":\"white\",\"linecolor\":\"white\",\"showbackground\":true,\"ticks\":\"\",\"zerolinecolor\":\"white\",\"gridwidth\":2}},\"shapedefaults\":{\"line\":{\"color\":\"#2a3f5f\"}},\"annotationdefaults\":{\"arrowcolor\":\"#2a3f5f\",\"arrowhead\":0,\"arrowwidth\":1},\"geo\":{\"bgcolor\":\"white\",\"landcolor\":\"#E5ECF6\",\"subunitcolor\":\"white\",\"showland\":true,\"showlakes\":true,\"lakecolor\":\"white\"},\"title\":{\"x\":0.05},\"mapbox\":{\"style\":\"light\"}}},\"title\":{\"text\":\"Bubble Chart for Sample 940\"},\"xaxis\":{\"title\":{\"text\":\"OTU ID\"}},\"yaxis\":{\"title\":{\"text\":\"Sample Value\"}},\"hovermode\":\"closest\"},                        {\"responsive\": true}                    ).then(function(){\n",
       "                            \n",
       "var gd = document.getElementById('51fd3587-a1a3-4c26-8aff-5739ba230cdd');\n",
       "var x = new MutationObserver(function (mutations, observer) {{\n",
       "        var display = window.getComputedStyle(gd).display;\n",
       "        if (!display || display === 'none') {{\n",
       "            console.log([gd, 'removed!']);\n",
       "            Plotly.purge(gd);\n",
       "            observer.disconnect();\n",
       "        }}\n",
       "}});\n",
       "\n",
       "// Listen for the removal of the full notebook cells\n",
       "var notebookContainer = gd.closest('#notebook-container');\n",
       "if (notebookContainer) {{\n",
       "    x.observe(notebookContainer, {childList: true});\n",
       "}}\n",
       "\n",
       "// Listen for the clearing of the current output cell\n",
       "var outputEl = gd.closest('.output');\n",
       "if (outputEl) {{\n",
       "    x.observe(outputEl, {childList: true});\n",
       "}}\n",
       "\n",
       "                        })                };                });            </script>        </div>"
      ]
     },
     "metadata": {},
     "output_type": "display_data"
    }
   ],
   "source": [
    "# Load the JSON data\n",
    "with urlopen(url) as response:\n",
    "    data = json.load(response)\n",
    "\n",
    "# Convert to a DataFrame\n",
    "samples_df = pd.DataFrame(data['samples'])\n",
    "\n",
    "# Function to create the bubble chart\n",
    "def create_bubble_chart(sample_id):\n",
    "    # Get the data for the selected sample\n",
    "    sample_data = samples_df[samples_df['id'] == sample_id].iloc[0]\n",
    "\n",
    "    # Create the bubble chart\n",
    "    fig = go.Figure(data=[go.Scatter(\n",
    "        x=sample_data['otu_ids'],\n",
    "        y=sample_data['sample_values'],\n",
    "        text=sample_data['otu_labels'],\n",
    "        mode='markers',\n",
    "        marker=dict(\n",
    "            size=sample_data['sample_values'],\n",
    "            color=sample_data['otu_ids'],\n",
    "            colorscale='Viridis',\n",
    "            showscale=True\n",
    "        )\n",
    "    )])\n",
    "\n",
    "    # Update layout\n",
    "    fig.update_layout(\n",
    "        title=f\"Bubble Chart for Sample {sample_id}\",\n",
    "        xaxis_title=\"OTU ID\",\n",
    "        yaxis_title=\"Sample Value\",\n",
    "        hovermode=\"closest\"\n",
    "    )\n",
    "\n",
    "    return fig\n",
    "\n",
    "# Example usage: create bubble chart for the first sample\n",
    "sample_id = samples_df['id'].iloc[0]\n",
    "fig = create_bubble_chart(sample_id)\n",
    "\n",
    "# Show the plot\n",
    "fig.show()\n"
   ]
  },
  {
   "cell_type": "code",
   "execution_count": 13,
   "id": "907dcab2-3fd1-47d6-80e2-9b071a1c0bf6",
   "metadata": {},
   "outputs": [
    {
     "data": {
      "text/html": [
       "\n",
       "<!DOCTYPE html>\n",
       "<html lang=\"en\">\n",
       "<head>\n",
       "    <meta charset=\"UTF-8\">\n",
       "    <meta name=\"viewport\" content=\"width=device-width, initial-scale=1.0\">\n",
       "    <title>Interactive Dashboard</title>\n",
       "    <script src=\"https://d3js.org/d3.v7.min.js\"></script>\n",
       "    <script src=\"https://cdn.plot.ly/plotly-latest.min.js\"></script>\n",
       "    <style>\n",
       "        body {\n",
       "            font-family: Arial, sans-serif;\n",
       "            margin: 20px;\n",
       "        }\n",
       "        .dashboard {\n",
       "            display: flex;\n",
       "            flex-wrap: wrap;\n",
       "        }\n",
       "        .plot-container, .metadata-container {\n",
       "            margin: 20px;\n",
       "        }\n",
       "        #sample-metadata {\n",
       "            border: 1px solid #ccc;\n",
       "            padding: 10px;\n",
       "            width: 300px;\n",
       "        }\n",
       "    </style>\n",
       "</head>\n",
       "<body>\n",
       "    <h1>Interactive Dashboard</h1>\n",
       "    <div>\n",
       "        <label for=\"selDataset\">Select a Sample:</label>\n",
       "        <select id=\"selDataset\"></select>\n",
       "    </div>\n",
       "\n",
       "    <div class=\"dashboard\">\n",
       "        <div class=\"plot-container\">\n",
       "            <div id=\"bar\"></div>\n",
       "        </div>\n",
       "        <div class=\"plot-container\">\n",
       "            <div id=\"bubble\"></div>\n",
       "        </div>\n",
       "        <div class=\"metadata-container\">\n",
       "            <div id=\"sample-metadata\"></div>\n",
       "        </div>\n",
       "    </div>\n",
       "\n",
       "    <script>\n",
       "        // Load the JSON data\n",
       "        d3.json(\"samples.json\").then(function(data) {\n",
       "            const metadata = data.metadata;\n",
       "            const samples = data.samples;\n",
       "            const dropdownMenu = d3.select(\"#selDataset\");\n",
       "\n",
       "            // Populate the dropdown menu with sample IDs\n",
       "            samples.forEach(sample => {\n",
       "                dropdownMenu.append(\"option\")\n",
       "                    .text(sample.id)\n",
       "                    .property(\"value\", sample.id);\n",
       "            });\n",
       "\n",
       "            // Function to build the bar chart\n",
       "            function buildBarChart(sample) {\n",
       "                const otu_ids = sample.otu_ids.slice(0, 10).reverse();\n",
       "                const sample_values = sample.sample_values.slice(0, 10).reverse();\n",
       "                const otu_labels = sample.otu_labels.slice(0, 10).reverse();\n",
       "\n",
       "                const trace = {\n",
       "                    x: sample_values,\n",
       "                    y: otu_ids.map(id => `OTU ${id}`),\n",
       "                    text: otu_labels,\n",
       "                    type: \"bar\",\n",
       "                    orientation: \"h\"\n",
       "                };\n",
       "\n",
       "                const data = [trace];\n",
       "\n",
       "                const layout = {\n",
       "                    title: \"Top 10 OTUs\",\n",
       "                    margin: { t: 30, l: 150 }\n",
       "                };\n",
       "\n",
       "                Plotly.newPlot(\"bar\", data, layout);\n",
       "            }\n",
       "\n",
       "            // Function to build the bubble chart\n",
       "            function buildBubbleChart(sample) {\n",
       "                const trace = {\n",
       "                    x: sample.otu_ids,\n",
       "                    y: sample.sample_values,\n",
       "                    text: sample.otu_labels,\n",
       "                    mode: \"markers\",\n",
       "                    marker: {\n",
       "                        size: sample.sample_values,\n",
       "                        color: sample.otu_ids,\n",
       "                        colorscale: \"Earth\"\n",
       "                    }\n",
       "                };\n",
       "\n",
       "                const data = [trace];\n",
       "\n",
       "                const layout = {\n",
       "                    title: \"OTU ID vs. Sample Values\",\n",
       "                    xaxis: { title: \"OTU ID\" },\n",
       "                    yaxis: { title: \"Sample Values\" },\n",
       "                    margin: { t: 30 }\n",
       "                };\n",
       "\n",
       "                Plotly.newPlot(\"bubble\", data, layout);\n",
       "            }\n",
       "\n",
       "            // Function to display the metadata\n",
       "            function displayMetadata(metadata) {\n",
       "                const panel = d3.select(\"#sample-metadata\");\n",
       "                panel.html(\"\");\n",
       "                Object.entries(metadata).forEach(([key, value]) => {\n",
       "                    panel.append(\"p\").text(`${key}: ${value}`);\n",
       "                });\n",
       "            }\n",
       "\n",
       "            // Function to update all charts and metadata\n",
       "            function updateDashboard(sampleID) {\n",
       "                const sample = samples.find(s => s.id === sampleID);\n",
       "                const meta = metadata.find(m => m.id === +sampleID);\n",
       "\n",
       "                buildBarChart(sample);\n",
       "                buildBubbleChart(sample);\n",
       "                displayMetadata(meta);\n",
       "            }\n",
       "\n",
       "            // Display initial data\n",
       "            const initialSample = samples[0].id;\n",
       "            updateDashboard(initialSample);\n",
       "\n",
       "            // Update the dashboard when a new sample is selected\n",
       "            dropdownMenu.on(\"change\", function() {\n",
       "                const selectedSample = d3.select(this).property(\"value\");\n",
       "                updateDashboard(selectedSample);\n",
       "            });\n",
       "        });\n",
       "    </script>\n",
       "</body>\n",
       "</html>\n"
      ],
      "text/plain": [
       "<IPython.core.display.HTML object>"
      ]
     },
     "metadata": {},
     "output_type": "display_data"
    }
   ],
   "source": [
    "from IPython.display import display, HTML\n",
    "\n",
    "# HTML content as a string\n",
    "html_content = \"\"\"\n",
    "<!DOCTYPE html>\n",
    "<html lang=\"en\">\n",
    "<head>\n",
    "    <meta charset=\"UTF-8\">\n",
    "    <meta name=\"viewport\" content=\"width=device-width, initial-scale=1.0\">\n",
    "    <title>Interactive Dashboard</title>\n",
    "    <script src=\"https://d3js.org/d3.v7.min.js\"></script>\n",
    "    <script src=\"https://cdn.plot.ly/plotly-latest.min.js\"></script>\n",
    "    <style>\n",
    "        body {\n",
    "            font-family: Arial, sans-serif;\n",
    "            margin: 20px;\n",
    "        }\n",
    "        .dashboard {\n",
    "            display: flex;\n",
    "            flex-wrap: wrap;\n",
    "        }\n",
    "        .plot-container, .metadata-container {\n",
    "            margin: 20px;\n",
    "        }\n",
    "        #sample-metadata {\n",
    "            border: 1px solid #ccc;\n",
    "            padding: 10px;\n",
    "            width: 300px;\n",
    "        }\n",
    "    </style>\n",
    "</head>\n",
    "<body>\n",
    "    <h1>Interactive Dashboard</h1>\n",
    "    <div>\n",
    "        <label for=\"selDataset\">Select a Sample:</label>\n",
    "        <select id=\"selDataset\"></select>\n",
    "    </div>\n",
    "\n",
    "    <div class=\"dashboard\">\n",
    "        <div class=\"plot-container\">\n",
    "            <div id=\"bar\"></div>\n",
    "        </div>\n",
    "        <div class=\"plot-container\">\n",
    "            <div id=\"bubble\"></div>\n",
    "        </div>\n",
    "        <div class=\"metadata-container\">\n",
    "            <div id=\"sample-metadata\"></div>\n",
    "        </div>\n",
    "    </div>\n",
    "\n",
    "    <script>\n",
    "        // Load the JSON data\n",
    "        d3.json(\"samples.json\").then(function(data) {\n",
    "            const metadata = data.metadata;\n",
    "            const samples = data.samples;\n",
    "            const dropdownMenu = d3.select(\"#selDataset\");\n",
    "\n",
    "            // Populate the dropdown menu with sample IDs\n",
    "            samples.forEach(sample => {\n",
    "                dropdownMenu.append(\"option\")\n",
    "                    .text(sample.id)\n",
    "                    .property(\"value\", sample.id);\n",
    "            });\n",
    "\n",
    "            // Function to build the bar chart\n",
    "            function buildBarChart(sample) {\n",
    "                const otu_ids = sample.otu_ids.slice(0, 10).reverse();\n",
    "                const sample_values = sample.sample_values.slice(0, 10).reverse();\n",
    "                const otu_labels = sample.otu_labels.slice(0, 10).reverse();\n",
    "\n",
    "                const trace = {\n",
    "                    x: sample_values,\n",
    "                    y: otu_ids.map(id => `OTU ${id}`),\n",
    "                    text: otu_labels,\n",
    "                    type: \"bar\",\n",
    "                    orientation: \"h\"\n",
    "                };\n",
    "\n",
    "                const data = [trace];\n",
    "\n",
    "                const layout = {\n",
    "                    title: \"Top 10 OTUs\",\n",
    "                    margin: { t: 30, l: 150 }\n",
    "                };\n",
    "\n",
    "                Plotly.newPlot(\"bar\", data, layout);\n",
    "            }\n",
    "\n",
    "            // Function to build the bubble chart\n",
    "            function buildBubbleChart(sample) {\n",
    "                const trace = {\n",
    "                    x: sample.otu_ids,\n",
    "                    y: sample.sample_values,\n",
    "                    text: sample.otu_labels,\n",
    "                    mode: \"markers\",\n",
    "                    marker: {\n",
    "                        size: sample.sample_values,\n",
    "                        color: sample.otu_ids,\n",
    "                        colorscale: \"Earth\"\n",
    "                    }\n",
    "                };\n",
    "\n",
    "                const data = [trace];\n",
    "\n",
    "                const layout = {\n",
    "                    title: \"OTU ID vs. Sample Values\",\n",
    "                    xaxis: { title: \"OTU ID\" },\n",
    "                    yaxis: { title: \"Sample Values\" },\n",
    "                    margin: { t: 30 }\n",
    "                };\n",
    "\n",
    "                Plotly.newPlot(\"bubble\", data, layout);\n",
    "            }\n",
    "\n",
    "            // Function to display the metadata\n",
    "            function displayMetadata(metadata) {\n",
    "                const panel = d3.select(\"#sample-metadata\");\n",
    "                panel.html(\"\");\n",
    "                Object.entries(metadata).forEach(([key, value]) => {\n",
    "                    panel.append(\"p\").text(`${key}: ${value}`);\n",
    "                });\n",
    "            }\n",
    "\n",
    "            // Function to update all charts and metadata\n",
    "            function updateDashboard(sampleID) {\n",
    "                const sample = samples.find(s => s.id === sampleID);\n",
    "                const meta = metadata.find(m => m.id === +sampleID);\n",
    "\n",
    "                buildBarChart(sample);\n",
    "                buildBubbleChart(sample);\n",
    "                displayMetadata(meta);\n",
    "            }\n",
    "\n",
    "            // Display initial data\n",
    "            const initialSample = samples[0].id;\n",
    "            updateDashboard(initialSample);\n",
    "\n",
    "            // Update the dashboard when a new sample is selected\n",
    "            dropdownMenu.on(\"change\", function() {\n",
    "                const selectedSample = d3.select(this).property(\"value\");\n",
    "                updateDashboard(selectedSample);\n",
    "            });\n",
    "        });\n",
    "    </script>\n",
    "</body>\n",
    "</html>\n",
    "\"\"\"\n",
    "\n",
    "# Display the HTML content in the notebook\n",
    "display(HTML(html_content))\n"
   ]
  },
  {
   "cell_type": "code",
   "execution_count": null,
   "id": "5ffd1e68-893d-459a-99ec-7b5f5d0c8ad7",
   "metadata": {},
   "outputs": [],
   "source": []
  }
 ],
 "metadata": {
  "kernelspec": {
   "display_name": "Python 3 (ipykernel)",
   "language": "python",
   "name": "python3"
  },
  "language_info": {
   "codemirror_mode": {
    "name": "ipython",
    "version": 3
   },
   "file_extension": ".py",
   "mimetype": "text/x-python",
   "name": "python",
   "nbconvert_exporter": "python",
   "pygments_lexer": "ipython3",
   "version": "3.10.14"
  }
 },
 "nbformat": 4,
 "nbformat_minor": 5
}
